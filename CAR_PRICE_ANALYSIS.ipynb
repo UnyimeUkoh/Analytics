{
 "cells": [
  {
   "cell_type": "markdown",
   "id": "9279784b",
   "metadata": {},
   "source": [
    "## PROJECT: Car Price Analysis"
   ]
  },
  {
   "cell_type": "markdown",
   "id": "4379a53c",
   "metadata": {},
   "source": [
    "### INTRODUCTION: \n",
    "This is a car price analysis, we'll be finding out how the various features of a car e.g Engine HP, Engine Cylinder, Number of doors etc affect the price of the car\n",
    "\n",
    "### QUESTIONS:\n",
    "1. How does Engine HP affect the price of a car\n",
    "2. How does Engine Cylinder affect the price of a car\n",
    "3. How does highway MPG affect price of a car\n",
    "4. How does city MPG affect the price of a car\n",
    "5. How does Number of Door of a car affect it's price\n",
    "6. Which features are importance in determining the prices of cars\n"
   ]
  },
  {
   "cell_type": "markdown",
   "id": "f6666f83",
   "metadata": {},
   "source": [
    "### TABLE OF CONTENT\n",
    "1. IMPORT DATA FROM MODULE\n",
    "2. ANALYZING INDIVIDUAL FEATURE PATTERNS USING VISUALIZATION\n",
    "3. DESTRIPTION STATISTICAL ANALYSIS\n",
    "4. BASICS OF GROUPING\n",
    "5. CORRELATION AND CAUSATION\n",
    "6. ANOVA"
   ]
  },
  {
   "cell_type": "code",
   "execution_count": 1,
   "id": "8ac34121",
   "metadata": {},
   "outputs": [],
   "source": [
    "import numpy as np\n",
    "import pandas as pd\n",
    "from numpy.random import randn\n",
    "\n",
    "#stats\n",
    "from scipy import stats\n",
    "\n",
    "#plotting\n",
    "import matplotlib as mlt\n",
    "import matplotlib.pyplot as plt\n",
    "import seaborn as sns\n",
    "%matplotlib inline"
   ]
  },
  {
   "cell_type": "markdown",
   "id": "1a7a7043",
   "metadata": {},
   "source": [
    "## Data Wrangling"
   ]
  },
  {
   "cell_type": "code",
   "execution_count": 2,
   "id": "278fef16",
   "metadata": {
    "scrolled": true
   },
   "outputs": [
    {
     "data": {
      "text/html": [
       "<div>\n",
       "<style scoped>\n",
       "    .dataframe tbody tr th:only-of-type {\n",
       "        vertical-align: middle;\n",
       "    }\n",
       "\n",
       "    .dataframe tbody tr th {\n",
       "        vertical-align: top;\n",
       "    }\n",
       "\n",
       "    .dataframe thead th {\n",
       "        text-align: right;\n",
       "    }\n",
       "</style>\n",
       "<table border=\"1\" class=\"dataframe\">\n",
       "  <thead>\n",
       "    <tr style=\"text-align: right;\">\n",
       "      <th></th>\n",
       "      <th>Make</th>\n",
       "      <th>Model</th>\n",
       "      <th>Year</th>\n",
       "      <th>Engine Fuel Type</th>\n",
       "      <th>Engine HP</th>\n",
       "      <th>Engine Cylinders</th>\n",
       "      <th>Transmission Type</th>\n",
       "      <th>Driven_Wheels</th>\n",
       "      <th>Number of Doors</th>\n",
       "      <th>Market Category</th>\n",
       "      <th>Vehicle Size</th>\n",
       "      <th>Vehicle Style</th>\n",
       "      <th>highway MPG</th>\n",
       "      <th>city mpg</th>\n",
       "      <th>Popularity</th>\n",
       "      <th>MSRP</th>\n",
       "    </tr>\n",
       "  </thead>\n",
       "  <tbody>\n",
       "    <tr>\n",
       "      <th>0</th>\n",
       "      <td>BMW</td>\n",
       "      <td>1 Series M</td>\n",
       "      <td>2011</td>\n",
       "      <td>premium unleaded (required)</td>\n",
       "      <td>335.0</td>\n",
       "      <td>6.0</td>\n",
       "      <td>MANUAL</td>\n",
       "      <td>rear wheel drive</td>\n",
       "      <td>2.0</td>\n",
       "      <td>Factory Tuner,Luxury,High-Performance</td>\n",
       "      <td>Compact</td>\n",
       "      <td>Coupe</td>\n",
       "      <td>26</td>\n",
       "      <td>19</td>\n",
       "      <td>3916</td>\n",
       "      <td>46135</td>\n",
       "    </tr>\n",
       "    <tr>\n",
       "      <th>1</th>\n",
       "      <td>BMW</td>\n",
       "      <td>1 Series</td>\n",
       "      <td>2011</td>\n",
       "      <td>premium unleaded (required)</td>\n",
       "      <td>300.0</td>\n",
       "      <td>6.0</td>\n",
       "      <td>MANUAL</td>\n",
       "      <td>rear wheel drive</td>\n",
       "      <td>2.0</td>\n",
       "      <td>Luxury,Performance</td>\n",
       "      <td>Compact</td>\n",
       "      <td>Convertible</td>\n",
       "      <td>28</td>\n",
       "      <td>19</td>\n",
       "      <td>3916</td>\n",
       "      <td>40650</td>\n",
       "    </tr>\n",
       "    <tr>\n",
       "      <th>2</th>\n",
       "      <td>BMW</td>\n",
       "      <td>1 Series</td>\n",
       "      <td>2011</td>\n",
       "      <td>premium unleaded (required)</td>\n",
       "      <td>300.0</td>\n",
       "      <td>6.0</td>\n",
       "      <td>MANUAL</td>\n",
       "      <td>rear wheel drive</td>\n",
       "      <td>2.0</td>\n",
       "      <td>Luxury,High-Performance</td>\n",
       "      <td>Compact</td>\n",
       "      <td>Coupe</td>\n",
       "      <td>28</td>\n",
       "      <td>20</td>\n",
       "      <td>3916</td>\n",
       "      <td>36350</td>\n",
       "    </tr>\n",
       "    <tr>\n",
       "      <th>3</th>\n",
       "      <td>BMW</td>\n",
       "      <td>1 Series</td>\n",
       "      <td>2011</td>\n",
       "      <td>premium unleaded (required)</td>\n",
       "      <td>230.0</td>\n",
       "      <td>6.0</td>\n",
       "      <td>MANUAL</td>\n",
       "      <td>rear wheel drive</td>\n",
       "      <td>2.0</td>\n",
       "      <td>Luxury,Performance</td>\n",
       "      <td>Compact</td>\n",
       "      <td>Coupe</td>\n",
       "      <td>28</td>\n",
       "      <td>18</td>\n",
       "      <td>3916</td>\n",
       "      <td>29450</td>\n",
       "    </tr>\n",
       "    <tr>\n",
       "      <th>4</th>\n",
       "      <td>BMW</td>\n",
       "      <td>1 Series</td>\n",
       "      <td>2011</td>\n",
       "      <td>premium unleaded (required)</td>\n",
       "      <td>230.0</td>\n",
       "      <td>6.0</td>\n",
       "      <td>MANUAL</td>\n",
       "      <td>rear wheel drive</td>\n",
       "      <td>2.0</td>\n",
       "      <td>Luxury</td>\n",
       "      <td>Compact</td>\n",
       "      <td>Convertible</td>\n",
       "      <td>28</td>\n",
       "      <td>18</td>\n",
       "      <td>3916</td>\n",
       "      <td>34500</td>\n",
       "    </tr>\n",
       "  </tbody>\n",
       "</table>\n",
       "</div>"
      ],
      "text/plain": [
       "  Make       Model  Year             Engine Fuel Type  Engine HP  \\\n",
       "0  BMW  1 Series M  2011  premium unleaded (required)      335.0   \n",
       "1  BMW    1 Series  2011  premium unleaded (required)      300.0   \n",
       "2  BMW    1 Series  2011  premium unleaded (required)      300.0   \n",
       "3  BMW    1 Series  2011  premium unleaded (required)      230.0   \n",
       "4  BMW    1 Series  2011  premium unleaded (required)      230.0   \n",
       "\n",
       "   Engine Cylinders Transmission Type     Driven_Wheels  Number of Doors  \\\n",
       "0               6.0            MANUAL  rear wheel drive              2.0   \n",
       "1               6.0            MANUAL  rear wheel drive              2.0   \n",
       "2               6.0            MANUAL  rear wheel drive              2.0   \n",
       "3               6.0            MANUAL  rear wheel drive              2.0   \n",
       "4               6.0            MANUAL  rear wheel drive              2.0   \n",
       "\n",
       "                         Market Category Vehicle Size Vehicle Style  \\\n",
       "0  Factory Tuner,Luxury,High-Performance      Compact         Coupe   \n",
       "1                     Luxury,Performance      Compact   Convertible   \n",
       "2                Luxury,High-Performance      Compact         Coupe   \n",
       "3                     Luxury,Performance      Compact         Coupe   \n",
       "4                                 Luxury      Compact   Convertible   \n",
       "\n",
       "   highway MPG  city mpg  Popularity   MSRP  \n",
       "0           26        19        3916  46135  \n",
       "1           28        19        3916  40650  \n",
       "2           28        20        3916  36350  \n",
       "3           28        18        3916  29450  \n",
       "4           28        18        3916  34500  "
      ]
     },
     "execution_count": 2,
     "metadata": {},
     "output_type": "execute_result"
    }
   ],
   "source": [
    "#IMPORT DATA FROM MODULE\n",
    "\n",
    "car = pd.read_csv (\"/Users/user/Downloads/data.csv\")\n",
    "car.head()"
   ]
  },
  {
   "cell_type": "code",
   "execution_count": 3,
   "id": "5aea2c0b",
   "metadata": {},
   "outputs": [
    {
     "data": {
      "text/plain": [
       "(11914, 16)"
      ]
     },
     "execution_count": 3,
     "metadata": {},
     "output_type": "execute_result"
    }
   ],
   "source": [
    "car.shape"
   ]
  },
  {
   "cell_type": "code",
   "execution_count": 4,
   "id": "4a31af9f",
   "metadata": {},
   "outputs": [
    {
     "name": "stdout",
     "output_type": "stream",
     "text": [
      "Make                  object\n",
      "Model                 object\n",
      "Year                   int64\n",
      "Engine Fuel Type      object\n",
      "Engine HP            float64\n",
      "Engine Cylinders     float64\n",
      "Transmission Type     object\n",
      "Driven_Wheels         object\n",
      "Number of Doors      float64\n",
      "Market Category       object\n",
      "Vehicle Size          object\n",
      "Vehicle Style         object\n",
      "highway MPG            int64\n",
      "city mpg               int64\n",
      "Popularity             int64\n",
      "MSRP                   int64\n",
      "dtype: object\n"
     ]
    }
   ],
   "source": [
    "#list the datatype for each column\n",
    "\n",
    "print(car.dtypes)"
   ]
  },
  {
   "cell_type": "code",
   "execution_count": 5,
   "id": "0899231d",
   "metadata": {},
   "outputs": [
    {
     "data": {
      "text/plain": [
       "Index(['Make', 'Model', 'Year', 'Engine Fuel Type', 'Engine HP',\n",
       "       'Engine Cylinders', 'Transmission Type', 'Driven_Wheels',\n",
       "       'Number of Doors', 'Market Category', 'Vehicle Size', 'Vehicle Style',\n",
       "       'highway MPG', 'city mpg', 'Popularity', 'MSRP'],\n",
       "      dtype='object')"
      ]
     },
     "execution_count": 5,
     "metadata": {},
     "output_type": "execute_result"
    }
   ],
   "source": [
    "car.columns"
   ]
  },
  {
   "cell_type": "code",
   "execution_count": 6,
   "id": "34eb8c07",
   "metadata": {},
   "outputs": [
    {
     "name": "stdout",
     "output_type": "stream",
     "text": [
      "<class 'pandas.core.frame.DataFrame'>\n",
      "RangeIndex: 11914 entries, 0 to 11913\n",
      "Data columns (total 16 columns):\n",
      " #   Column             Non-Null Count  Dtype  \n",
      "---  ------             --------------  -----  \n",
      " 0   Make               11914 non-null  object \n",
      " 1   Model              11914 non-null  object \n",
      " 2   Year               11914 non-null  int64  \n",
      " 3   Engine Fuel Type   11911 non-null  object \n",
      " 4   Engine HP          11845 non-null  float64\n",
      " 5   Engine Cylinders   11884 non-null  float64\n",
      " 6   Transmission Type  11914 non-null  object \n",
      " 7   Driven_Wheels      11914 non-null  object \n",
      " 8   Number of Doors    11908 non-null  float64\n",
      " 9   Market Category    8172 non-null   object \n",
      " 10  Vehicle Size       11914 non-null  object \n",
      " 11  Vehicle Style      11914 non-null  object \n",
      " 12  highway MPG        11914 non-null  int64  \n",
      " 13  city mpg           11914 non-null  int64  \n",
      " 14  Popularity         11914 non-null  int64  \n",
      " 15  MSRP               11914 non-null  int64  \n",
      "dtypes: float64(3), int64(5), object(8)\n",
      "memory usage: 1.5+ MB\n"
     ]
    }
   ],
   "source": [
    "car.info()"
   ]
  },
  {
   "cell_type": "code",
   "execution_count": 7,
   "id": "272209fc",
   "metadata": {},
   "outputs": [
    {
     "data": {
      "text/plain": [
       "Make                    0\n",
       "Model                   0\n",
       "Year                    0\n",
       "Engine Fuel Type        3\n",
       "Engine HP              69\n",
       "Engine Cylinders       30\n",
       "Transmission Type       0\n",
       "Driven_Wheels           0\n",
       "Number of Doors         6\n",
       "Market Category      3742\n",
       "Vehicle Size            0\n",
       "Vehicle Style           0\n",
       "highway MPG             0\n",
       "city mpg                0\n",
       "Popularity              0\n",
       "MSRP                    0\n",
       "dtype: int64"
      ]
     },
     "execution_count": 7,
     "metadata": {},
     "output_type": "execute_result"
    }
   ],
   "source": [
    "car.isnull().sum()"
   ]
  },
  {
   "cell_type": "code",
   "execution_count": 8,
   "id": "df4492cc",
   "metadata": {},
   "outputs": [],
   "source": [
    "Cylinder_mean = car[\"Engine Cylinders\"].mean()"
   ]
  },
  {
   "cell_type": "code",
   "execution_count": 9,
   "id": "7892ca64",
   "metadata": {},
   "outputs": [],
   "source": [
    "HP_mean = car[\"Engine HP\"].mean()"
   ]
  },
  {
   "cell_type": "code",
   "execution_count": 10,
   "id": "2f51db1d",
   "metadata": {},
   "outputs": [],
   "source": [
    "number_doors_mean = car[\"Number of Doors\"].mean()"
   ]
  },
  {
   "cell_type": "code",
   "execution_count": 11,
   "id": "70b3d22b",
   "metadata": {},
   "outputs": [],
   "source": [
    "car[\"Engine Cylinders\"].fillna(Cylinder_mean, inplace = True)"
   ]
  },
  {
   "cell_type": "code",
   "execution_count": 12,
   "id": "421076de",
   "metadata": {},
   "outputs": [],
   "source": [
    "car[\"Engine HP\"].fillna(HP_mean, inplace = True)"
   ]
  },
  {
   "cell_type": "code",
   "execution_count": 13,
   "id": "c5739007",
   "metadata": {},
   "outputs": [],
   "source": [
    "car[\"Number of Doors\"].fillna(number_doors_mean, inplace = True)"
   ]
  },
  {
   "cell_type": "code",
   "execution_count": 14,
   "id": "10eacb03",
   "metadata": {},
   "outputs": [],
   "source": [
    "car.drop('Market Category',inplace=True,axis=1)"
   ]
  },
  {
   "cell_type": "code",
   "execution_count": 15,
   "id": "c65696aa",
   "metadata": {},
   "outputs": [
    {
     "data": {
      "text/plain": [
       "Make                 0\n",
       "Model                0\n",
       "Year                 0\n",
       "Engine Fuel Type     3\n",
       "Engine HP            0\n",
       "Engine Cylinders     0\n",
       "Transmission Type    0\n",
       "Driven_Wheels        0\n",
       "Number of Doors      0\n",
       "Vehicle Size         0\n",
       "Vehicle Style        0\n",
       "highway MPG          0\n",
       "city mpg             0\n",
       "Popularity           0\n",
       "MSRP                 0\n",
       "dtype: int64"
      ]
     },
     "execution_count": 15,
     "metadata": {},
     "output_type": "execute_result"
    }
   ],
   "source": [
    "car.isnull().sum()"
   ]
  },
  {
   "cell_type": "markdown",
   "id": "d2fadbda",
   "metadata": {},
   "source": [
    "lets convert Engine Fuel Type from object to str so that we can use mode to fill in the miss value"
   ]
  },
  {
   "cell_type": "code",
   "execution_count": 16,
   "id": "42cdaeab",
   "metadata": {},
   "outputs": [],
   "source": [
    "car[\"Engine Fuel Type\"] = car[\"Engine Fuel Type\"].astype(str)"
   ]
  },
  {
   "cell_type": "code",
   "execution_count": 17,
   "id": "ff99cae4",
   "metadata": {},
   "outputs": [],
   "source": [
    "fuel_type_mode = car[\"Engine Fuel Type\"].mode()"
   ]
  },
  {
   "cell_type": "code",
   "execution_count": 18,
   "id": "4d9684cf",
   "metadata": {},
   "outputs": [],
   "source": [
    "car[\"Engine Fuel Type\"].fillna(fuel_type_mode, inplace = True)"
   ]
  },
  {
   "cell_type": "code",
   "execution_count": 19,
   "id": "79e13ea4",
   "metadata": {},
   "outputs": [
    {
     "data": {
      "text/plain": [
       "Make                 0\n",
       "Model                0\n",
       "Year                 0\n",
       "Engine Fuel Type     0\n",
       "Engine HP            0\n",
       "Engine Cylinders     0\n",
       "Transmission Type    0\n",
       "Driven_Wheels        0\n",
       "Number of Doors      0\n",
       "Vehicle Size         0\n",
       "Vehicle Style        0\n",
       "highway MPG          0\n",
       "city mpg             0\n",
       "Popularity           0\n",
       "MSRP                 0\n",
       "dtype: int64"
      ]
     },
     "execution_count": 19,
     "metadata": {},
     "output_type": "execute_result"
    }
   ],
   "source": [
    "car.isnull().sum()"
   ]
  },
  {
   "cell_type": "markdown",
   "id": "06fa3067",
   "metadata": {},
   "source": [
    "there are 11914 rows and 15 columns in this dataset.\n",
    "they are missing value in Engine HP, Engine Cylinder, Number of Doors.\n",
    "I filled it in the their mean respectively,\n",
    "I changed the data type of Engine Fuel Type to str. found its mode and filled in the missing value,\n",
    "I dropped the Market Category columns cause it wasn't neccessary in my analysis."
   ]
  },
  {
   "cell_type": "markdown",
   "id": "8b907d7e",
   "metadata": {},
   "source": [
    "## ANALYZING INDIVIDUAL FEATURE PATTERNS USING VISUALIZATION\n",
    "## how to choose the right visualization method\n",
    "when visualizing individaul variables, it is important to first understand what type of variable you are dealing with.\n",
    "this will help us find the right visualization method for that variable"
   ]
  },
  {
   "cell_type": "markdown",
   "id": "3362ef66",
   "metadata": {},
   "source": [
    "## 1. what is the datatype of column \"Engine HP\"?"
   ]
  },
  {
   "cell_type": "markdown",
   "id": "fa26026b",
   "metadata": {},
   "source": [
    "ANSWER: Float 64"
   ]
  },
  {
   "cell_type": "code",
   "execution_count": 20,
   "id": "06151737",
   "metadata": {},
   "outputs": [
    {
     "data": {
      "text/html": [
       "<div>\n",
       "<style scoped>\n",
       "    .dataframe tbody tr th:only-of-type {\n",
       "        vertical-align: middle;\n",
       "    }\n",
       "\n",
       "    .dataframe tbody tr th {\n",
       "        vertical-align: top;\n",
       "    }\n",
       "\n",
       "    .dataframe thead th {\n",
       "        text-align: right;\n",
       "    }\n",
       "</style>\n",
       "<table border=\"1\" class=\"dataframe\">\n",
       "  <thead>\n",
       "    <tr style=\"text-align: right;\">\n",
       "      <th></th>\n",
       "      <th>Year</th>\n",
       "      <th>Engine HP</th>\n",
       "      <th>Engine Cylinders</th>\n",
       "      <th>Number of Doors</th>\n",
       "      <th>highway MPG</th>\n",
       "      <th>city mpg</th>\n",
       "      <th>Popularity</th>\n",
       "      <th>MSRP</th>\n",
       "    </tr>\n",
       "  </thead>\n",
       "  <tbody>\n",
       "    <tr>\n",
       "      <th>Year</th>\n",
       "      <td>1.000000</td>\n",
       "      <td>0.351288</td>\n",
       "      <td>-0.041446</td>\n",
       "      <td>0.263756</td>\n",
       "      <td>0.258240</td>\n",
       "      <td>0.198171</td>\n",
       "      <td>0.073049</td>\n",
       "      <td>0.227590</td>\n",
       "    </tr>\n",
       "    <tr>\n",
       "      <th>Engine HP</th>\n",
       "      <td>0.351288</td>\n",
       "      <td>1.000000</td>\n",
       "      <td>0.764986</td>\n",
       "      <td>-0.102511</td>\n",
       "      <td>-0.353343</td>\n",
       "      <td>-0.346308</td>\n",
       "      <td>0.037315</td>\n",
       "      <td>0.661644</td>\n",
       "    </tr>\n",
       "    <tr>\n",
       "      <th>Engine Cylinders</th>\n",
       "      <td>-0.041446</td>\n",
       "      <td>0.764986</td>\n",
       "      <td>1.000000</td>\n",
       "      <td>-0.139607</td>\n",
       "      <td>-0.602294</td>\n",
       "      <td>-0.566980</td>\n",
       "      <td>0.041125</td>\n",
       "      <td>0.531272</td>\n",
       "    </tr>\n",
       "    <tr>\n",
       "      <th>Number of Doors</th>\n",
       "      <td>0.263756</td>\n",
       "      <td>-0.102511</td>\n",
       "      <td>-0.139607</td>\n",
       "      <td>1.000000</td>\n",
       "      <td>0.116669</td>\n",
       "      <td>0.118932</td>\n",
       "      <td>-0.048271</td>\n",
       "      <td>-0.126521</td>\n",
       "    </tr>\n",
       "    <tr>\n",
       "      <th>highway MPG</th>\n",
       "      <td>0.258240</td>\n",
       "      <td>-0.353343</td>\n",
       "      <td>-0.602294</td>\n",
       "      <td>0.116669</td>\n",
       "      <td>1.000000</td>\n",
       "      <td>0.886829</td>\n",
       "      <td>-0.020991</td>\n",
       "      <td>-0.160043</td>\n",
       "    </tr>\n",
       "    <tr>\n",
       "      <th>city mpg</th>\n",
       "      <td>0.198171</td>\n",
       "      <td>-0.346308</td>\n",
       "      <td>-0.566980</td>\n",
       "      <td>0.118932</td>\n",
       "      <td>0.886829</td>\n",
       "      <td>1.000000</td>\n",
       "      <td>-0.003217</td>\n",
       "      <td>-0.157676</td>\n",
       "    </tr>\n",
       "    <tr>\n",
       "      <th>Popularity</th>\n",
       "      <td>0.073049</td>\n",
       "      <td>0.037315</td>\n",
       "      <td>0.041125</td>\n",
       "      <td>-0.048271</td>\n",
       "      <td>-0.020991</td>\n",
       "      <td>-0.003217</td>\n",
       "      <td>1.000000</td>\n",
       "      <td>-0.048476</td>\n",
       "    </tr>\n",
       "    <tr>\n",
       "      <th>MSRP</th>\n",
       "      <td>0.227590</td>\n",
       "      <td>0.661644</td>\n",
       "      <td>0.531272</td>\n",
       "      <td>-0.126521</td>\n",
       "      <td>-0.160043</td>\n",
       "      <td>-0.157676</td>\n",
       "      <td>-0.048476</td>\n",
       "      <td>1.000000</td>\n",
       "    </tr>\n",
       "  </tbody>\n",
       "</table>\n",
       "</div>"
      ],
      "text/plain": [
       "                      Year  Engine HP  Engine Cylinders  Number of Doors  \\\n",
       "Year              1.000000   0.351288         -0.041446         0.263756   \n",
       "Engine HP         0.351288   1.000000          0.764986        -0.102511   \n",
       "Engine Cylinders -0.041446   0.764986          1.000000        -0.139607   \n",
       "Number of Doors   0.263756  -0.102511         -0.139607         1.000000   \n",
       "highway MPG       0.258240  -0.353343         -0.602294         0.116669   \n",
       "city mpg          0.198171  -0.346308         -0.566980         0.118932   \n",
       "Popularity        0.073049   0.037315          0.041125        -0.048271   \n",
       "MSRP              0.227590   0.661644          0.531272        -0.126521   \n",
       "\n",
       "                  highway MPG  city mpg  Popularity      MSRP  \n",
       "Year                 0.258240  0.198171    0.073049  0.227590  \n",
       "Engine HP           -0.353343 -0.346308    0.037315  0.661644  \n",
       "Engine Cylinders    -0.602294 -0.566980    0.041125  0.531272  \n",
       "Number of Doors      0.116669  0.118932   -0.048271 -0.126521  \n",
       "highway MPG          1.000000  0.886829   -0.020991 -0.160043  \n",
       "city mpg             0.886829  1.000000   -0.003217 -0.157676  \n",
       "Popularity          -0.020991 -0.003217    1.000000 -0.048476  \n",
       "MSRP                -0.160043 -0.157676   -0.048476  1.000000  "
      ]
     },
     "execution_count": 20,
     "metadata": {},
     "output_type": "execute_result"
    }
   ],
   "source": [
    "# we can calculate the correlation btw the int64 values and float64 values \n",
    "\n",
    "car.corr()"
   ]
  },
  {
   "cell_type": "markdown",
   "id": "ce41f0ff",
   "metadata": {},
   "source": [
    "## 2. find th correlation btwn the following columns: Engine HP, Engine Cylinder, Number of doors and popularity\n"
   ]
  },
  {
   "cell_type": "code",
   "execution_count": 21,
   "id": "b0aa3166",
   "metadata": {},
   "outputs": [
    {
     "data": {
      "text/html": [
       "<div>\n",
       "<style scoped>\n",
       "    .dataframe tbody tr th:only-of-type {\n",
       "        vertical-align: middle;\n",
       "    }\n",
       "\n",
       "    .dataframe tbody tr th {\n",
       "        vertical-align: top;\n",
       "    }\n",
       "\n",
       "    .dataframe thead th {\n",
       "        text-align: right;\n",
       "    }\n",
       "</style>\n",
       "<table border=\"1\" class=\"dataframe\">\n",
       "  <thead>\n",
       "    <tr style=\"text-align: right;\">\n",
       "      <th></th>\n",
       "      <th>Engine HP</th>\n",
       "      <th>Engine Cylinders</th>\n",
       "      <th>Number of Doors</th>\n",
       "      <th>Popularity</th>\n",
       "    </tr>\n",
       "  </thead>\n",
       "  <tbody>\n",
       "    <tr>\n",
       "      <th>Engine HP</th>\n",
       "      <td>1.000000</td>\n",
       "      <td>0.764986</td>\n",
       "      <td>-0.102511</td>\n",
       "      <td>0.037315</td>\n",
       "    </tr>\n",
       "    <tr>\n",
       "      <th>Engine Cylinders</th>\n",
       "      <td>0.764986</td>\n",
       "      <td>1.000000</td>\n",
       "      <td>-0.139607</td>\n",
       "      <td>0.041125</td>\n",
       "    </tr>\n",
       "    <tr>\n",
       "      <th>Number of Doors</th>\n",
       "      <td>-0.102511</td>\n",
       "      <td>-0.139607</td>\n",
       "      <td>1.000000</td>\n",
       "      <td>-0.048271</td>\n",
       "    </tr>\n",
       "    <tr>\n",
       "      <th>Popularity</th>\n",
       "      <td>0.037315</td>\n",
       "      <td>0.041125</td>\n",
       "      <td>-0.048271</td>\n",
       "      <td>1.000000</td>\n",
       "    </tr>\n",
       "  </tbody>\n",
       "</table>\n",
       "</div>"
      ],
      "text/plain": [
       "                  Engine HP  Engine Cylinders  Number of Doors  Popularity\n",
       "Engine HP          1.000000          0.764986        -0.102511    0.037315\n",
       "Engine Cylinders   0.764986          1.000000        -0.139607    0.041125\n",
       "Number of Doors   -0.102511         -0.139607         1.000000   -0.048271\n",
       "Popularity         0.037315          0.041125        -0.048271    1.000000"
      ]
     },
     "execution_count": 21,
     "metadata": {},
     "output_type": "execute_result"
    }
   ],
   "source": [
    "car[[\"Engine HP\", \"Engine Cylinders\", \"Number of Doors\", \"Popularity\"]].corr()"
   ]
  },
  {
   "cell_type": "markdown",
   "id": "8fc56979",
   "metadata": {},
   "source": [
    "## continous numerical variables:\n",
    "this are variables that may contain any value within some range, it can have type int64 or float64, and a great way to visualize this variable is by using scatterplot with fitted lines\n",
    "\n",
    "in other to start understanding the linear relationship btwn an individual variable and price. we can do this by using \"regression regplot\", which plot the scatter plot plus the fitted regression line for the data"
   ]
  },
  {
   "cell_type": "code",
   "execution_count": 22,
   "id": "88a4a939",
   "metadata": {},
   "outputs": [
    {
     "name": "stderr",
     "output_type": "stream",
     "text": [
      "/opt/anaconda3/lib/python3.9/site-packages/seaborn/_decorators.py:36: FutureWarning: Pass the following variables as keyword args: x, y. From version 0.12, the only valid positional argument will be `data`, and passing other arguments without an explicit keyword will result in an error or misinterpretation.\n",
      "  warnings.warn(\n"
     ]
    },
    {
     "data": {
      "text/plain": [
       "(0.0, 2171004.7288853587)"
      ]
     },
     "execution_count": 22,
     "metadata": {},
     "output_type": "execute_result"
    },
    {
     "data": {
      "image/png": "[encoded data removed]",
      "text/plain": [
       "<Figure size 432x288 with 1 Axes>"
      ]
     },
     "metadata": {
      "needs_background": "light"
     },
     "output_type": "display_data"
    }
   ],
   "source": [
    "#sactterplot of Engine HP and price\n",
    "\n",
    "sns.regplot(\"Engine HP\", \"MSRP\", data = car);\n",
    "plt.ylim(0, )"
   ]
  },
  {
   "cell_type": "code",
   "execution_count": 23,
   "id": "16557af3",
   "metadata": {},
   "outputs": [
    {
     "name": "stderr",
     "output_type": "stream",
     "text": [
      "/opt/anaconda3/lib/python3.9/site-packages/seaborn/_decorators.py:36: FutureWarning: Pass the following variables as keyword args: x, y. From version 0.12, the only valid positional argument will be `data`, and passing other arguments without an explicit keyword will result in an error or misinterpretation.\n",
      "  warnings.warn(\n"
     ]
    },
    {
     "data": {
      "text/plain": [
       "(0.0, 2172793.296324131)"
      ]
     },
     "execution_count": 23,
     "metadata": {},
     "output_type": "execute_result"
    },
    {
     "data": {
      "image/png": "[encoded data removed]",
      "text/plain": [
       "<Figure size 432x288 with 1 Axes>"
      ]
     },
     "metadata": {
      "needs_background": "light"
     },
     "output_type": "display_data"
    }
   ],
   "source": [
    "#sactterplot of Engine Cylinders and price\n",
    "\n",
    "sns.regplot(\"Engine Cylinders\", \"MSRP\", data = car);\n",
    "plt.ylim(0, )"
   ]
  },
  {
   "cell_type": "markdown",
   "id": "0053fea4",
   "metadata": {},
   "source": [
    "As the Engine HP and Engine Cylinders geos up the prices goes up a little, this indicate possitive direct correlation"
   ]
  },
  {
   "cell_type": "code",
   "execution_count": 24,
   "id": "b64ed20d",
   "metadata": {},
   "outputs": [
    {
     "name": "stderr",
     "output_type": "stream",
     "text": [
      "/opt/anaconda3/lib/python3.9/site-packages/seaborn/_decorators.py:36: FutureWarning: Pass the following variables as keyword args: x, y. From version 0.12, the only valid positional argument will be `data`, and passing other arguments without an explicit keyword will result in an error or misinterpretation.\n",
      "  warnings.warn(\n"
     ]
    },
    {
     "data": {
      "image/png": "[encoded data removed]",
      "text/plain": [
       "<Figure size 432x288 with 1 Axes>"
      ]
     },
     "metadata": {
      "needs_background": "light"
     },
     "output_type": "display_data"
    }
   ],
   "source": [
    "sns.regplot(\"highway MPG\", \"MSRP\", data = car);\n",
    "#plt.ylim(0, )"
   ]
  },
  {
   "cell_type": "markdown",
   "id": "9f06d9e2",
   "metadata": {},
   "source": [
    "As highway MPG goes up price goes down, i.e negative correlation"
   ]
  },
  {
   "cell_type": "markdown",
   "id": "bd3aa68f",
   "metadata": {},
   "source": [
    "## weak linear relationship"
   ]
  },
  {
   "cell_type": "code",
   "execution_count": 25,
   "id": "7016c04c",
   "metadata": {},
   "outputs": [
    {
     "name": "stderr",
     "output_type": "stream",
     "text": [
      "/opt/anaconda3/lib/python3.9/site-packages/seaborn/_decorators.py:36: FutureWarning: Pass the following variables as keyword args: x, y. From version 0.12, the only valid positional argument will be `data`, and passing other arguments without an explicit keyword will result in an error or misinterpretation.\n",
      "  warnings.warn(\n"
     ]
    },
    {
     "data": {
      "image/png": "[encoded data removed]",
      "text/plain": [
       "<Figure size 432x288 with 1 Axes>"
      ]
     },
     "metadata": {
      "needs_background": "light"
     },
     "output_type": "display_data"
    }
   ],
   "source": [
    "sns.regplot(\"Number of Doors\", \"MSRP\", data = car);"
   ]
  },
  {
   "cell_type": "markdown",
   "id": "5c2580b0",
   "metadata": {},
   "source": [
    "Number of Doors does not affect the price of a car"
   ]
  },
  {
   "cell_type": "code",
   "execution_count": 26,
   "id": "bbd57dc0",
   "metadata": {},
   "outputs": [
    {
     "name": "stderr",
     "output_type": "stream",
     "text": [
      "/opt/anaconda3/lib/python3.9/site-packages/seaborn/_decorators.py:36: FutureWarning: Pass the following variables as keyword args: x, y. From version 0.12, the only valid positional argument will be `data`, and passing other arguments without an explicit keyword will result in an error or misinterpretation.\n",
      "  warnings.warn(\n"
     ]
    },
    {
     "data": {
      "image/png": "[encoded data removed]",
      "text/plain": [
       "<Figure size 432x288 with 1 Axes>"
      ]
     },
     "metadata": {
      "needs_background": "light"
     },
     "output_type": "display_data"
    }
   ],
   "source": [
    "sns.regplot(\"city mpg\", \"MSRP\", data = car);"
   ]
  },
  {
   "cell_type": "markdown",
   "id": "6484223b",
   "metadata": {},
   "source": [
    "no correlation between city mpg and price of car"
   ]
  },
  {
   "cell_type": "markdown",
   "id": "58e2c5c1",
   "metadata": {},
   "source": [
    "## Which features are importance in determining the prices of cars"
   ]
  },
  {
   "cell_type": "code",
   "execution_count": 27,
   "id": "65036da1",
   "metadata": {},
   "outputs": [
    {
     "data": {
      "text/html": [
       "<div>\n",
       "<style scoped>\n",
       "    .dataframe tbody tr th:only-of-type {\n",
       "        vertical-align: middle;\n",
       "    }\n",
       "\n",
       "    .dataframe tbody tr th {\n",
       "        vertical-align: top;\n",
       "    }\n",
       "\n",
       "    .dataframe thead th {\n",
       "        text-align: right;\n",
       "    }\n",
       "</style>\n",
       "<table border=\"1\" class=\"dataframe\">\n",
       "  <thead>\n",
       "    <tr style=\"text-align: right;\">\n",
       "      <th></th>\n",
       "      <th>Year</th>\n",
       "      <th>Engine HP</th>\n",
       "      <th>Engine Cylinders</th>\n",
       "      <th>Number of Doors</th>\n",
       "      <th>highway MPG</th>\n",
       "      <th>city mpg</th>\n",
       "      <th>Popularity</th>\n",
       "      <th>MSRP</th>\n",
       "    </tr>\n",
       "  </thead>\n",
       "  <tbody>\n",
       "    <tr>\n",
       "      <th>Year</th>\n",
       "      <td>1.000000</td>\n",
       "      <td>0.351288</td>\n",
       "      <td>-0.041446</td>\n",
       "      <td>0.263756</td>\n",
       "      <td>0.258240</td>\n",
       "      <td>0.198171</td>\n",
       "      <td>0.073049</td>\n",
       "      <td>0.227590</td>\n",
       "    </tr>\n",
       "    <tr>\n",
       "      <th>Engine HP</th>\n",
       "      <td>0.351288</td>\n",
       "      <td>1.000000</td>\n",
       "      <td>0.764986</td>\n",
       "      <td>-0.102511</td>\n",
       "      <td>-0.353343</td>\n",
       "      <td>-0.346308</td>\n",
       "      <td>0.037315</td>\n",
       "      <td>0.661644</td>\n",
       "    </tr>\n",
       "    <tr>\n",
       "      <th>Engine Cylinders</th>\n",
       "      <td>-0.041446</td>\n",
       "      <td>0.764986</td>\n",
       "      <td>1.000000</td>\n",
       "      <td>-0.139607</td>\n",
       "      <td>-0.602294</td>\n",
       "      <td>-0.566980</td>\n",
       "      <td>0.041125</td>\n",
       "      <td>0.531272</td>\n",
       "    </tr>\n",
       "    <tr>\n",
       "      <th>Number of Doors</th>\n",
       "      <td>0.263756</td>\n",
       "      <td>-0.102511</td>\n",
       "      <td>-0.139607</td>\n",
       "      <td>1.000000</td>\n",
       "      <td>0.116669</td>\n",
       "      <td>0.118932</td>\n",
       "      <td>-0.048271</td>\n",
       "      <td>-0.126521</td>\n",
       "    </tr>\n",
       "    <tr>\n",
       "      <th>highway MPG</th>\n",
       "      <td>0.258240</td>\n",
       "      <td>-0.353343</td>\n",
       "      <td>-0.602294</td>\n",
       "      <td>0.116669</td>\n",
       "      <td>1.000000</td>\n",
       "      <td>0.886829</td>\n",
       "      <td>-0.020991</td>\n",
       "      <td>-0.160043</td>\n",
       "    </tr>\n",
       "    <tr>\n",
       "      <th>city mpg</th>\n",
       "      <td>0.198171</td>\n",
       "      <td>-0.346308</td>\n",
       "      <td>-0.566980</td>\n",
       "      <td>0.118932</td>\n",
       "      <td>0.886829</td>\n",
       "      <td>1.000000</td>\n",
       "      <td>-0.003217</td>\n",
       "      <td>-0.157676</td>\n",
       "    </tr>\n",
       "    <tr>\n",
       "      <th>Popularity</th>\n",
       "      <td>0.073049</td>\n",
       "      <td>0.037315</td>\n",
       "      <td>0.041125</td>\n",
       "      <td>-0.048271</td>\n",
       "      <td>-0.020991</td>\n",
       "      <td>-0.003217</td>\n",
       "      <td>1.000000</td>\n",
       "      <td>-0.048476</td>\n",
       "    </tr>\n",
       "    <tr>\n",
       "      <th>MSRP</th>\n",
       "      <td>0.227590</td>\n",
       "      <td>0.661644</td>\n",
       "      <td>0.531272</td>\n",
       "      <td>-0.126521</td>\n",
       "      <td>-0.160043</td>\n",
       "      <td>-0.157676</td>\n",
       "      <td>-0.048476</td>\n",
       "      <td>1.000000</td>\n",
       "    </tr>\n",
       "  </tbody>\n",
       "</table>\n",
       "</div>"
      ],
      "text/plain": [
       "                      Year  Engine HP  Engine Cylinders  Number of Doors  \\\n",
       "Year              1.000000   0.351288         -0.041446         0.263756   \n",
       "Engine HP         0.351288   1.000000          0.764986        -0.102511   \n",
       "Engine Cylinders -0.041446   0.764986          1.000000        -0.139607   \n",
       "Number of Doors   0.263756  -0.102511         -0.139607         1.000000   \n",
       "highway MPG       0.258240  -0.353343         -0.602294         0.116669   \n",
       "city mpg          0.198171  -0.346308         -0.566980         0.118932   \n",
       "Popularity        0.073049   0.037315          0.041125        -0.048271   \n",
       "MSRP              0.227590   0.661644          0.531272        -0.126521   \n",
       "\n",
       "                  highway MPG  city mpg  Popularity      MSRP  \n",
       "Year                 0.258240  0.198171    0.073049  0.227590  \n",
       "Engine HP           -0.353343 -0.346308    0.037315  0.661644  \n",
       "Engine Cylinders    -0.602294 -0.566980    0.041125  0.531272  \n",
       "Number of Doors      0.116669  0.118932   -0.048271 -0.126521  \n",
       "highway MPG          1.000000  0.886829   -0.020991 -0.160043  \n",
       "city mpg             0.886829  1.000000   -0.003217 -0.157676  \n",
       "Popularity          -0.020991 -0.003217    1.000000 -0.048476  \n",
       "MSRP                -0.160043 -0.157676   -0.048476  1.000000  "
      ]
     },
     "execution_count": 27,
     "metadata": {},
     "output_type": "execute_result"
    }
   ],
   "source": [
    "car.corr()"
   ]
  },
  {
   "cell_type": "code",
   "execution_count": 28,
   "id": "1a898a7d",
   "metadata": {},
   "outputs": [
    {
     "data": {
      "image/png": "[encoded data removed]",
      "text/plain": [
       "<Figure size 864x864 with 2 Axes>"
      ]
     },
     "metadata": {
      "needs_background": "light"
     },
     "output_type": "display_data"
    }
   ],
   "source": [
    "#plotting a heatmap of the above correlation\n",
    "\n",
    "plt.figure(figsize=(12,12))\n",
    "sns.heatmap(data=car.corr(),annot=True,cmap=\"mako\")\n",
    "plt.show()"
   ]
  },
  {
   "cell_type": "markdown",
   "id": "91a14df3",
   "metadata": {},
   "source": [
    "From my correlation table and the heapmap graph I discovered that Engine HP and Engine Cylinders are the features that can affect the price of the car"
   ]
  },
  {
   "cell_type": "markdown",
   "id": "f15c8287",
   "metadata": {},
   "source": [
    "## categorical variables\n",
    "these are variables that describe a characteristic of a data unit and are selected from a small group of categories.\n",
    "these variables can have type \"object\" or int64. a good way to visualize categorical variable is by using boxplots."
   ]
  },
  {
   "cell_type": "code",
   "execution_count": 29,
   "id": "f6edabd8",
   "metadata": {},
   "outputs": [
    {
     "name": "stderr",
     "output_type": "stream",
     "text": [
      "/opt/anaconda3/lib/python3.9/site-packages/seaborn/_decorators.py:36: FutureWarning: Pass the following variables as keyword args: x, y. From version 0.12, the only valid positional argument will be `data`, and passing other arguments without an explicit keyword will result in an error or misinterpretation.\n",
      "  warnings.warn(\n"
     ]
    },
    {
     "data": {
      "image/png": "[encoded data removed]",
      "text/plain": [
       "<Figure size 432x288 with 1 Axes>"
      ]
     },
     "metadata": {
      "needs_background": "light"
     },
     "output_type": "display_data"
    }
   ],
   "source": [
    "sns.boxplot(\"Transmission Type\", \"MSRP\", data = car);"
   ]
  },
  {
   "cell_type": "code",
   "execution_count": 30,
   "id": "03e152c0",
   "metadata": {},
   "outputs": [
    {
     "name": "stderr",
     "output_type": "stream",
     "text": [
      "/opt/anaconda3/lib/python3.9/site-packages/seaborn/_decorators.py:36: FutureWarning: Pass the following variables as keyword args: x, y. From version 0.12, the only valid positional argument will be `data`, and passing other arguments without an explicit keyword will result in an error or misinterpretation.\n",
      "  warnings.warn(\n"
     ]
    },
    {
     "data": {
      "image/png": "[encoded data removed]",
      "text/plain": [
       "<Figure size 432x288 with 1 Axes>"
      ]
     },
     "metadata": {
      "needs_background": "light"
     },
     "output_type": "display_data"
    }
   ],
   "source": [
    "sns.boxplot(\"Vehicle Style\", \"MSRP\", data = car);"
   ]
  },
  {
   "cell_type": "code",
   "execution_count": 31,
   "id": "66ee1e30",
   "metadata": {},
   "outputs": [
    {
     "name": "stderr",
     "output_type": "stream",
     "text": [
      "/opt/anaconda3/lib/python3.9/site-packages/seaborn/_decorators.py:36: FutureWarning: Pass the following variables as keyword args: x, y. From version 0.12, the only valid positional argument will be `data`, and passing other arguments without an explicit keyword will result in an error or misinterpretation.\n",
      "  warnings.warn(\n"
     ]
    },
    {
     "data": {
      "image/png": "[encoded data removed]",
      "text/plain": [
       "<Figure size 432x288 with 1 Axes>"
      ]
     },
     "metadata": {
      "needs_background": "light"
     },
     "output_type": "display_data"
    }
   ],
   "source": [
    "sns.boxplot(\"Driven_Wheels\", \"MSRP\", data = car);"
   ]
  },
  {
   "cell_type": "markdown",
   "id": "326264e6",
   "metadata": {},
   "source": [
    "## descriptive statistical analysis\n",
    "the descriptive functio autmatically computes basic statistics for all continous variables. any NaN values are automatically skipped in these statistics.\n",
    ". the count of that variable\n",
    ". mean\n",
    ". STD\n",
    ". minimum value\n",
    ". IQR interquartile range: 25%, 50%, and 70%\n",
    ". maximum value"
   ]
  },
  {
   "cell_type": "code",
   "execution_count": 32,
   "id": "cbb1963b",
   "metadata": {},
   "outputs": [
    {
     "data": {
      "text/html": [
       "<div>\n",
       "<style scoped>\n",
       "    .dataframe tbody tr th:only-of-type {\n",
       "        vertical-align: middle;\n",
       "    }\n",
       "\n",
       "    .dataframe tbody tr th {\n",
       "        vertical-align: top;\n",
       "    }\n",
       "\n",
       "    .dataframe thead th {\n",
       "        text-align: right;\n",
       "    }\n",
       "</style>\n",
       "<table border=\"1\" class=\"dataframe\">\n",
       "  <thead>\n",
       "    <tr style=\"text-align: right;\">\n",
       "      <th></th>\n",
       "      <th>Year</th>\n",
       "      <th>Engine HP</th>\n",
       "      <th>Engine Cylinders</th>\n",
       "      <th>Number of Doors</th>\n",
       "      <th>highway MPG</th>\n",
       "      <th>city mpg</th>\n",
       "      <th>Popularity</th>\n",
       "      <th>MSRP</th>\n",
       "    </tr>\n",
       "  </thead>\n",
       "  <tbody>\n",
       "    <tr>\n",
       "      <th>count</th>\n",
       "      <td>11914.000000</td>\n",
       "      <td>11914.000000</td>\n",
       "      <td>11914.000000</td>\n",
       "      <td>11914.000000</td>\n",
       "      <td>11914.000000</td>\n",
       "      <td>11914.000000</td>\n",
       "      <td>11914.000000</td>\n",
       "      <td>1.191400e+04</td>\n",
       "    </tr>\n",
       "    <tr>\n",
       "      <th>mean</th>\n",
       "      <td>2010.384338</td>\n",
       "      <td>249.386070</td>\n",
       "      <td>5.628829</td>\n",
       "      <td>3.436093</td>\n",
       "      <td>26.637485</td>\n",
       "      <td>19.733255</td>\n",
       "      <td>1554.911197</td>\n",
       "      <td>4.059474e+04</td>\n",
       "    </tr>\n",
       "    <tr>\n",
       "      <th>std</th>\n",
       "      <td>7.579740</td>\n",
       "      <td>108.875192</td>\n",
       "      <td>1.778316</td>\n",
       "      <td>0.881093</td>\n",
       "      <td>8.863001</td>\n",
       "      <td>8.987798</td>\n",
       "      <td>1441.855347</td>\n",
       "      <td>6.010910e+04</td>\n",
       "    </tr>\n",
       "    <tr>\n",
       "      <th>min</th>\n",
       "      <td>1990.000000</td>\n",
       "      <td>55.000000</td>\n",
       "      <td>0.000000</td>\n",
       "      <td>2.000000</td>\n",
       "      <td>12.000000</td>\n",
       "      <td>7.000000</td>\n",
       "      <td>2.000000</td>\n",
       "      <td>2.000000e+03</td>\n",
       "    </tr>\n",
       "    <tr>\n",
       "      <th>25%</th>\n",
       "      <td>2007.000000</td>\n",
       "      <td>170.000000</td>\n",
       "      <td>4.000000</td>\n",
       "      <td>2.000000</td>\n",
       "      <td>22.000000</td>\n",
       "      <td>16.000000</td>\n",
       "      <td>549.000000</td>\n",
       "      <td>2.100000e+04</td>\n",
       "    </tr>\n",
       "    <tr>\n",
       "      <th>50%</th>\n",
       "      <td>2015.000000</td>\n",
       "      <td>227.000000</td>\n",
       "      <td>6.000000</td>\n",
       "      <td>4.000000</td>\n",
       "      <td>26.000000</td>\n",
       "      <td>18.000000</td>\n",
       "      <td>1385.000000</td>\n",
       "      <td>2.999500e+04</td>\n",
       "    </tr>\n",
       "    <tr>\n",
       "      <th>75%</th>\n",
       "      <td>2016.000000</td>\n",
       "      <td>300.000000</td>\n",
       "      <td>6.000000</td>\n",
       "      <td>4.000000</td>\n",
       "      <td>30.000000</td>\n",
       "      <td>22.000000</td>\n",
       "      <td>2009.000000</td>\n",
       "      <td>4.223125e+04</td>\n",
       "    </tr>\n",
       "    <tr>\n",
       "      <th>max</th>\n",
       "      <td>2017.000000</td>\n",
       "      <td>1001.000000</td>\n",
       "      <td>16.000000</td>\n",
       "      <td>4.000000</td>\n",
       "      <td>354.000000</td>\n",
       "      <td>137.000000</td>\n",
       "      <td>5657.000000</td>\n",
       "      <td>2.065902e+06</td>\n",
       "    </tr>\n",
       "  </tbody>\n",
       "</table>\n",
       "</div>"
      ],
      "text/plain": [
       "               Year     Engine HP  Engine Cylinders  Number of Doors  \\\n",
       "count  11914.000000  11914.000000      11914.000000     11914.000000   \n",
       "mean    2010.384338    249.386070          5.628829         3.436093   \n",
       "std        7.579740    108.875192          1.778316         0.881093   \n",
       "min     1990.000000     55.000000          0.000000         2.000000   \n",
       "25%     2007.000000    170.000000          4.000000         2.000000   \n",
       "50%     2015.000000    227.000000          6.000000         4.000000   \n",
       "75%     2016.000000    300.000000          6.000000         4.000000   \n",
       "max     2017.000000   1001.000000         16.000000         4.000000   \n",
       "\n",
       "        highway MPG      city mpg    Popularity          MSRP  \n",
       "count  11914.000000  11914.000000  11914.000000  1.191400e+04  \n",
       "mean      26.637485     19.733255   1554.911197  4.059474e+04  \n",
       "std        8.863001      8.987798   1441.855347  6.010910e+04  \n",
       "min       12.000000      7.000000      2.000000  2.000000e+03  \n",
       "25%       22.000000     16.000000    549.000000  2.100000e+04  \n",
       "50%       26.000000     18.000000   1385.000000  2.999500e+04  \n",
       "75%       30.000000     22.000000   2009.000000  4.223125e+04  \n",
       "max      354.000000    137.000000   5657.000000  2.065902e+06  "
      ]
     },
     "execution_count": 32,
     "metadata": {},
     "output_type": "execute_result"
    }
   ],
   "source": [
    "car.describe()"
   ]
  },
  {
   "cell_type": "code",
   "execution_count": 33,
   "id": "1132cac9",
   "metadata": {},
   "outputs": [
    {
     "data": {
      "text/html": [
       "<div>\n",
       "<style scoped>\n",
       "    .dataframe tbody tr th:only-of-type {\n",
       "        vertical-align: middle;\n",
       "    }\n",
       "\n",
       "    .dataframe tbody tr th {\n",
       "        vertical-align: top;\n",
       "    }\n",
       "\n",
       "    .dataframe thead th {\n",
       "        text-align: right;\n",
       "    }\n",
       "</style>\n",
       "<table border=\"1\" class=\"dataframe\">\n",
       "  <thead>\n",
       "    <tr style=\"text-align: right;\">\n",
       "      <th></th>\n",
       "      <th>Make</th>\n",
       "      <th>Model</th>\n",
       "      <th>Engine Fuel Type</th>\n",
       "      <th>Transmission Type</th>\n",
       "      <th>Driven_Wheels</th>\n",
       "      <th>Vehicle Size</th>\n",
       "      <th>Vehicle Style</th>\n",
       "    </tr>\n",
       "  </thead>\n",
       "  <tbody>\n",
       "    <tr>\n",
       "      <th>count</th>\n",
       "      <td>11914</td>\n",
       "      <td>11914</td>\n",
       "      <td>11914</td>\n",
       "      <td>11914</td>\n",
       "      <td>11914</td>\n",
       "      <td>11914</td>\n",
       "      <td>11914</td>\n",
       "    </tr>\n",
       "    <tr>\n",
       "      <th>unique</th>\n",
       "      <td>48</td>\n",
       "      <td>915</td>\n",
       "      <td>11</td>\n",
       "      <td>5</td>\n",
       "      <td>4</td>\n",
       "      <td>3</td>\n",
       "      <td>16</td>\n",
       "    </tr>\n",
       "    <tr>\n",
       "      <th>top</th>\n",
       "      <td>Chevrolet</td>\n",
       "      <td>Silverado 1500</td>\n",
       "      <td>regular unleaded</td>\n",
       "      <td>AUTOMATIC</td>\n",
       "      <td>front wheel drive</td>\n",
       "      <td>Compact</td>\n",
       "      <td>Sedan</td>\n",
       "    </tr>\n",
       "    <tr>\n",
       "      <th>freq</th>\n",
       "      <td>1123</td>\n",
       "      <td>156</td>\n",
       "      <td>7172</td>\n",
       "      <td>8266</td>\n",
       "      <td>4787</td>\n",
       "      <td>4764</td>\n",
       "      <td>3048</td>\n",
       "    </tr>\n",
       "  </tbody>\n",
       "</table>\n",
       "</div>"
      ],
      "text/plain": [
       "             Make           Model  Engine Fuel Type Transmission Type  \\\n",
       "count       11914           11914             11914             11914   \n",
       "unique         48             915                11                 5   \n",
       "top     Chevrolet  Silverado 1500  regular unleaded         AUTOMATIC   \n",
       "freq         1123             156              7172              8266   \n",
       "\n",
       "            Driven_Wheels Vehicle Size Vehicle Style  \n",
       "count               11914        11914         11914  \n",
       "unique                  4            3            16  \n",
       "top     front wheel drive      Compact         Sedan  \n",
       "freq                 4787         4764          3048  "
      ]
     },
     "execution_count": 33,
     "metadata": {},
     "output_type": "execute_result"
    }
   ],
   "source": [
    "car.describe(include = [\"object\"])"
   ]
  },
  {
   "cell_type": "markdown",
   "id": "4d2d847b",
   "metadata": {},
   "source": [
    "## value count\n",
    "value count is a good way of understanding how many unit of each characteristic/variable we have. dont forget the method \"value count\" only works on pandas Series not pandas DataFrames. as a result we only include one bracket not two"
   ]
  },
  {
   "cell_type": "code",
   "execution_count": 34,
   "id": "9b07deea",
   "metadata": {},
   "outputs": [
    {
     "data": {
      "text/plain": [
       "front wheel drive    4787\n",
       "rear wheel drive     3371\n",
       "all wheel drive      2353\n",
       "four wheel drive     1403\n",
       "Name: Driven_Wheels, dtype: int64"
      ]
     },
     "execution_count": 34,
     "metadata": {},
     "output_type": "execute_result"
    }
   ],
   "source": [
    "car[\"Driven_Wheels\"].value_counts()"
   ]
  },
  {
   "cell_type": "code",
   "execution_count": 35,
   "id": "697b0cb2",
   "metadata": {},
   "outputs": [
    {
     "data": {
      "text/html": [
       "<div>\n",
       "<style scoped>\n",
       "    .dataframe tbody tr th:only-of-type {\n",
       "        vertical-align: middle;\n",
       "    }\n",
       "\n",
       "    .dataframe tbody tr th {\n",
       "        vertical-align: top;\n",
       "    }\n",
       "\n",
       "    .dataframe thead th {\n",
       "        text-align: right;\n",
       "    }\n",
       "</style>\n",
       "<table border=\"1\" class=\"dataframe\">\n",
       "  <thead>\n",
       "    <tr style=\"text-align: right;\">\n",
       "      <th></th>\n",
       "      <th>Driven_Wheels</th>\n",
       "    </tr>\n",
       "  </thead>\n",
       "  <tbody>\n",
       "    <tr>\n",
       "      <th>front wheel drive</th>\n",
       "      <td>4787</td>\n",
       "    </tr>\n",
       "    <tr>\n",
       "      <th>rear wheel drive</th>\n",
       "      <td>3371</td>\n",
       "    </tr>\n",
       "    <tr>\n",
       "      <th>all wheel drive</th>\n",
       "      <td>2353</td>\n",
       "    </tr>\n",
       "    <tr>\n",
       "      <th>four wheel drive</th>\n",
       "      <td>1403</td>\n",
       "    </tr>\n",
       "  </tbody>\n",
       "</table>\n",
       "</div>"
      ],
      "text/plain": [
       "                   Driven_Wheels\n",
       "front wheel drive           4787\n",
       "rear wheel drive            3371\n",
       "all wheel drive             2353\n",
       "four wheel drive            1403"
      ]
     },
     "execution_count": 35,
     "metadata": {},
     "output_type": "execute_result"
    }
   ],
   "source": [
    "#we can convert Series to DataFrame as follows\n",
    "\n",
    "car[\"Driven_Wheels\"].value_counts().to_frame()"
   ]
  },
  {
   "cell_type": "code",
   "execution_count": 36,
   "id": "8dcc21f7",
   "metadata": {},
   "outputs": [
    {
     "data": {
      "text/html": [
       "<div>\n",
       "<style scoped>\n",
       "    .dataframe tbody tr th:only-of-type {\n",
       "        vertical-align: middle;\n",
       "    }\n",
       "\n",
       "    .dataframe tbody tr th {\n",
       "        vertical-align: top;\n",
       "    }\n",
       "\n",
       "    .dataframe thead th {\n",
       "        text-align: right;\n",
       "    }\n",
       "</style>\n",
       "<table border=\"1\" class=\"dataframe\">\n",
       "  <thead>\n",
       "    <tr style=\"text-align: right;\">\n",
       "      <th></th>\n",
       "      <th>value_counts</th>\n",
       "    </tr>\n",
       "  </thead>\n",
       "  <tbody>\n",
       "    <tr>\n",
       "      <th>front wheel drive</th>\n",
       "      <td>4787</td>\n",
       "    </tr>\n",
       "    <tr>\n",
       "      <th>rear wheel drive</th>\n",
       "      <td>3371</td>\n",
       "    </tr>\n",
       "    <tr>\n",
       "      <th>all wheel drive</th>\n",
       "      <td>2353</td>\n",
       "    </tr>\n",
       "    <tr>\n",
       "      <th>four wheel drive</th>\n",
       "      <td>1403</td>\n",
       "    </tr>\n",
       "  </tbody>\n",
       "</table>\n",
       "</div>"
      ],
      "text/plain": [
       "                   value_counts\n",
       "front wheel drive          4787\n",
       "rear wheel drive           3371\n",
       "all wheel drive            2353\n",
       "four wheel drive           1403"
      ]
     },
     "execution_count": 36,
     "metadata": {},
     "output_type": "execute_result"
    }
   ],
   "source": [
    "#let repeat the above steps but save the result to the DataFrame \n",
    "\n",
    "Driven_Wheels_Counts = car[\"Driven_Wheels\"].value_counts().to_frame()\n",
    "\n",
    "Driven_Wheels_Counts.rename(columns = {\"Driven_Wheels\": \"value_counts\"}, inplace = True)\n",
    "\n",
    "Driven_Wheels_Counts"
   ]
  },
  {
   "cell_type": "code",
   "execution_count": 37,
   "id": "b524d366",
   "metadata": {},
   "outputs": [
    {
     "data": {
      "text/html": [
       "<div>\n",
       "<style scoped>\n",
       "    .dataframe tbody tr th:only-of-type {\n",
       "        vertical-align: middle;\n",
       "    }\n",
       "\n",
       "    .dataframe tbody tr th {\n",
       "        vertical-align: top;\n",
       "    }\n",
       "\n",
       "    .dataframe thead th {\n",
       "        text-align: right;\n",
       "    }\n",
       "</style>\n",
       "<table border=\"1\" class=\"dataframe\">\n",
       "  <thead>\n",
       "    <tr style=\"text-align: right;\">\n",
       "      <th></th>\n",
       "      <th>value_counts</th>\n",
       "    </tr>\n",
       "    <tr>\n",
       "      <th>Driven_Wheels</th>\n",
       "      <th></th>\n",
       "    </tr>\n",
       "  </thead>\n",
       "  <tbody>\n",
       "    <tr>\n",
       "      <th>front wheel drive</th>\n",
       "      <td>4787</td>\n",
       "    </tr>\n",
       "    <tr>\n",
       "      <th>rear wheel drive</th>\n",
       "      <td>3371</td>\n",
       "    </tr>\n",
       "    <tr>\n",
       "      <th>all wheel drive</th>\n",
       "      <td>2353</td>\n",
       "    </tr>\n",
       "    <tr>\n",
       "      <th>four wheel drive</th>\n",
       "      <td>1403</td>\n",
       "    </tr>\n",
       "  </tbody>\n",
       "</table>\n",
       "</div>"
      ],
      "text/plain": [
       "                   value_counts\n",
       "Driven_Wheels                  \n",
       "front wheel drive          4787\n",
       "rear wheel drive           3371\n",
       "all wheel drive            2353\n",
       "four wheel drive           1403"
      ]
     },
     "execution_count": 37,
     "metadata": {},
     "output_type": "execute_result"
    }
   ],
   "source": [
    "#let change the index name\n",
    "\n",
    "Driven_Wheels_Counts.index.name = \"Driven_Wheels\"\n",
    "Driven_Wheels_Counts"
   ]
  },
  {
   "cell_type": "markdown",
   "id": "a2450630",
   "metadata": {},
   "source": [
    "## Basics of Grouping\n",
    "The \"groupby\" method groups data by different categories. the data is grouped based on one or several variables and analysis is performed on the individual groups. "
   ]
  },
  {
   "cell_type": "code",
   "execution_count": 38,
   "id": "6517835a",
   "metadata": {},
   "outputs": [
    {
     "data": {
      "text/plain": [
       "array(['rear wheel drive', 'front wheel drive', 'all wheel drive',\n",
       "       'four wheel drive'], dtype=object)"
      ]
     },
     "execution_count": 38,
     "metadata": {},
     "output_type": "execute_result"
    }
   ],
   "source": [
    "car[\"Driven_Wheels\"].unique()"
   ]
  },
  {
   "cell_type": "code",
   "execution_count": 39,
   "id": "31ab13b4",
   "metadata": {},
   "outputs": [
    {
     "data": {
      "text/html": [
       "<div>\n",
       "<style scoped>\n",
       "    .dataframe tbody tr th:only-of-type {\n",
       "        vertical-align: middle;\n",
       "    }\n",
       "\n",
       "    .dataframe tbody tr th {\n",
       "        vertical-align: top;\n",
       "    }\n",
       "\n",
       "    .dataframe thead th {\n",
       "        text-align: right;\n",
       "    }\n",
       "</style>\n",
       "<table border=\"1\" class=\"dataframe\">\n",
       "  <thead>\n",
       "    <tr style=\"text-align: right;\">\n",
       "      <th></th>\n",
       "      <th>Make</th>\n",
       "      <th>Model</th>\n",
       "      <th>Year</th>\n",
       "      <th>Engine Fuel Type</th>\n",
       "      <th>Engine HP</th>\n",
       "      <th>Engine Cylinders</th>\n",
       "      <th>Transmission Type</th>\n",
       "      <th>Driven_Wheels</th>\n",
       "      <th>Number of Doors</th>\n",
       "      <th>Vehicle Size</th>\n",
       "      <th>Vehicle Style</th>\n",
       "      <th>highway MPG</th>\n",
       "      <th>city mpg</th>\n",
       "      <th>Popularity</th>\n",
       "      <th>MSRP</th>\n",
       "    </tr>\n",
       "  </thead>\n",
       "  <tbody>\n",
       "    <tr>\n",
       "      <th>0</th>\n",
       "      <td>BMW</td>\n",
       "      <td>1 Series M</td>\n",
       "      <td>2011</td>\n",
       "      <td>premium unleaded (required)</td>\n",
       "      <td>335.0</td>\n",
       "      <td>6.0</td>\n",
       "      <td>MANUAL</td>\n",
       "      <td>rear wheel drive</td>\n",
       "      <td>2.0</td>\n",
       "      <td>Compact</td>\n",
       "      <td>Coupe</td>\n",
       "      <td>26</td>\n",
       "      <td>19</td>\n",
       "      <td>3916</td>\n",
       "      <td>46135</td>\n",
       "    </tr>\n",
       "    <tr>\n",
       "      <th>1</th>\n",
       "      <td>BMW</td>\n",
       "      <td>1 Series</td>\n",
       "      <td>2011</td>\n",
       "      <td>premium unleaded (required)</td>\n",
       "      <td>300.0</td>\n",
       "      <td>6.0</td>\n",
       "      <td>MANUAL</td>\n",
       "      <td>rear wheel drive</td>\n",
       "      <td>2.0</td>\n",
       "      <td>Compact</td>\n",
       "      <td>Convertible</td>\n",
       "      <td>28</td>\n",
       "      <td>19</td>\n",
       "      <td>3916</td>\n",
       "      <td>40650</td>\n",
       "    </tr>\n",
       "    <tr>\n",
       "      <th>2</th>\n",
       "      <td>BMW</td>\n",
       "      <td>1 Series</td>\n",
       "      <td>2011</td>\n",
       "      <td>premium unleaded (required)</td>\n",
       "      <td>300.0</td>\n",
       "      <td>6.0</td>\n",
       "      <td>MANUAL</td>\n",
       "      <td>rear wheel drive</td>\n",
       "      <td>2.0</td>\n",
       "      <td>Compact</td>\n",
       "      <td>Coupe</td>\n",
       "      <td>28</td>\n",
       "      <td>20</td>\n",
       "      <td>3916</td>\n",
       "      <td>36350</td>\n",
       "    </tr>\n",
       "    <tr>\n",
       "      <th>3</th>\n",
       "      <td>BMW</td>\n",
       "      <td>1 Series</td>\n",
       "      <td>2011</td>\n",
       "      <td>premium unleaded (required)</td>\n",
       "      <td>230.0</td>\n",
       "      <td>6.0</td>\n",
       "      <td>MANUAL</td>\n",
       "      <td>rear wheel drive</td>\n",
       "      <td>2.0</td>\n",
       "      <td>Compact</td>\n",
       "      <td>Coupe</td>\n",
       "      <td>28</td>\n",
       "      <td>18</td>\n",
       "      <td>3916</td>\n",
       "      <td>29450</td>\n",
       "    </tr>\n",
       "    <tr>\n",
       "      <th>4</th>\n",
       "      <td>BMW</td>\n",
       "      <td>1 Series</td>\n",
       "      <td>2011</td>\n",
       "      <td>premium unleaded (required)</td>\n",
       "      <td>230.0</td>\n",
       "      <td>6.0</td>\n",
       "      <td>MANUAL</td>\n",
       "      <td>rear wheel drive</td>\n",
       "      <td>2.0</td>\n",
       "      <td>Compact</td>\n",
       "      <td>Convertible</td>\n",
       "      <td>28</td>\n",
       "      <td>18</td>\n",
       "      <td>3916</td>\n",
       "      <td>34500</td>\n",
       "    </tr>\n",
       "  </tbody>\n",
       "</table>\n",
       "</div>"
      ],
      "text/plain": [
       "  Make       Model  Year             Engine Fuel Type  Engine HP  \\\n",
       "0  BMW  1 Series M  2011  premium unleaded (required)      335.0   \n",
       "1  BMW    1 Series  2011  premium unleaded (required)      300.0   \n",
       "2  BMW    1 Series  2011  premium unleaded (required)      300.0   \n",
       "3  BMW    1 Series  2011  premium unleaded (required)      230.0   \n",
       "4  BMW    1 Series  2011  premium unleaded (required)      230.0   \n",
       "\n",
       "   Engine Cylinders Transmission Type     Driven_Wheels  Number of Doors  \\\n",
       "0               6.0            MANUAL  rear wheel drive              2.0   \n",
       "1               6.0            MANUAL  rear wheel drive              2.0   \n",
       "2               6.0            MANUAL  rear wheel drive              2.0   \n",
       "3               6.0            MANUAL  rear wheel drive              2.0   \n",
       "4               6.0            MANUAL  rear wheel drive              2.0   \n",
       "\n",
       "  Vehicle Size Vehicle Style  highway MPG  city mpg  Popularity   MSRP  \n",
       "0      Compact         Coupe           26        19        3916  46135  \n",
       "1      Compact   Convertible           28        19        3916  40650  \n",
       "2      Compact         Coupe           28        20        3916  36350  \n",
       "3      Compact         Coupe           28        18        3916  29450  \n",
       "4      Compact   Convertible           28        18        3916  34500  "
      ]
     },
     "execution_count": 39,
     "metadata": {},
     "output_type": "execute_result"
    }
   ],
   "source": [
    "car.head()"
   ]
  },
  {
   "cell_type": "code",
   "execution_count": 40,
   "id": "4e9dacc6",
   "metadata": {},
   "outputs": [
    {
     "data": {
      "text/html": [
       "<div>\n",
       "<style scoped>\n",
       "    .dataframe tbody tr th:only-of-type {\n",
       "        vertical-align: middle;\n",
       "    }\n",
       "\n",
       "    .dataframe tbody tr th {\n",
       "        vertical-align: top;\n",
       "    }\n",
       "\n",
       "    .dataframe thead th {\n",
       "        text-align: right;\n",
       "    }\n",
       "</style>\n",
       "<table border=\"1\" class=\"dataframe\">\n",
       "  <thead>\n",
       "    <tr style=\"text-align: right;\">\n",
       "      <th></th>\n",
       "      <th>Driven_Wheels</th>\n",
       "      <th>Vehicle Style</th>\n",
       "      <th>MSRP</th>\n",
       "    </tr>\n",
       "  </thead>\n",
       "  <tbody>\n",
       "    <tr>\n",
       "      <th>0</th>\n",
       "      <td>rear wheel drive</td>\n",
       "      <td>Coupe</td>\n",
       "      <td>46135</td>\n",
       "    </tr>\n",
       "    <tr>\n",
       "      <th>1</th>\n",
       "      <td>rear wheel drive</td>\n",
       "      <td>Convertible</td>\n",
       "      <td>40650</td>\n",
       "    </tr>\n",
       "    <tr>\n",
       "      <th>2</th>\n",
       "      <td>rear wheel drive</td>\n",
       "      <td>Coupe</td>\n",
       "      <td>36350</td>\n",
       "    </tr>\n",
       "    <tr>\n",
       "      <th>3</th>\n",
       "      <td>rear wheel drive</td>\n",
       "      <td>Coupe</td>\n",
       "      <td>29450</td>\n",
       "    </tr>\n",
       "    <tr>\n",
       "      <th>4</th>\n",
       "      <td>rear wheel drive</td>\n",
       "      <td>Convertible</td>\n",
       "      <td>34500</td>\n",
       "    </tr>\n",
       "    <tr>\n",
       "      <th>...</th>\n",
       "      <td>...</td>\n",
       "      <td>...</td>\n",
       "      <td>...</td>\n",
       "    </tr>\n",
       "    <tr>\n",
       "      <th>11909</th>\n",
       "      <td>all wheel drive</td>\n",
       "      <td>4dr Hatchback</td>\n",
       "      <td>46120</td>\n",
       "    </tr>\n",
       "    <tr>\n",
       "      <th>11910</th>\n",
       "      <td>all wheel drive</td>\n",
       "      <td>4dr Hatchback</td>\n",
       "      <td>56670</td>\n",
       "    </tr>\n",
       "    <tr>\n",
       "      <th>11911</th>\n",
       "      <td>all wheel drive</td>\n",
       "      <td>4dr Hatchback</td>\n",
       "      <td>50620</td>\n",
       "    </tr>\n",
       "    <tr>\n",
       "      <th>11912</th>\n",
       "      <td>all wheel drive</td>\n",
       "      <td>4dr Hatchback</td>\n",
       "      <td>50920</td>\n",
       "    </tr>\n",
       "    <tr>\n",
       "      <th>11913</th>\n",
       "      <td>front wheel drive</td>\n",
       "      <td>Sedan</td>\n",
       "      <td>28995</td>\n",
       "    </tr>\n",
       "  </tbody>\n",
       "</table>\n",
       "<p>11914 rows × 3 columns</p>\n",
       "</div>"
      ],
      "text/plain": [
       "           Driven_Wheels  Vehicle Style   MSRP\n",
       "0       rear wheel drive          Coupe  46135\n",
       "1       rear wheel drive    Convertible  40650\n",
       "2       rear wheel drive          Coupe  36350\n",
       "3       rear wheel drive          Coupe  29450\n",
       "4       rear wheel drive    Convertible  34500\n",
       "...                  ...            ...    ...\n",
       "11909    all wheel drive  4dr Hatchback  46120\n",
       "11910    all wheel drive  4dr Hatchback  56670\n",
       "11911    all wheel drive  4dr Hatchback  50620\n",
       "11912    all wheel drive  4dr Hatchback  50920\n",
       "11913  front wheel drive          Sedan  28995\n",
       "\n",
       "[11914 rows x 3 columns]"
      ]
     },
     "execution_count": 40,
     "metadata": {},
     "output_type": "execute_result"
    }
   ],
   "source": [
    "# on average which type of drive wheel is more valuable, we can use driven_wheels and then average them \n",
    "#(body style,price)\n",
    "\n",
    "car_group1 = car[[\"Driven_Wheels\", \"Vehicle Style\", \"MSRP\"]]\n",
    "car_group1"
   ]
  },
  {
   "cell_type": "code",
   "execution_count": 41,
   "id": "fdbcc149",
   "metadata": {},
   "outputs": [
    {
     "data": {
      "text/html": [
       "<div>\n",
       "<style scoped>\n",
       "    .dataframe tbody tr th:only-of-type {\n",
       "        vertical-align: middle;\n",
       "    }\n",
       "\n",
       "    .dataframe tbody tr th {\n",
       "        vertical-align: top;\n",
       "    }\n",
       "\n",
       "    .dataframe thead th {\n",
       "        text-align: right;\n",
       "    }\n",
       "</style>\n",
       "<table border=\"1\" class=\"dataframe\">\n",
       "  <thead>\n",
       "    <tr style=\"text-align: right;\">\n",
       "      <th></th>\n",
       "      <th>Driven_Wheels</th>\n",
       "      <th>MSRP</th>\n",
       "    </tr>\n",
       "  </thead>\n",
       "  <tbody>\n",
       "    <tr>\n",
       "      <th>0</th>\n",
       "      <td>all wheel drive</td>\n",
       "      <td>58693.884828</td>\n",
       "    </tr>\n",
       "    <tr>\n",
       "      <th>1</th>\n",
       "      <td>four wheel drive</td>\n",
       "      <td>35312.039914</td>\n",
       "    </tr>\n",
       "    <tr>\n",
       "      <th>2</th>\n",
       "      <td>front wheel drive</td>\n",
       "      <td>23056.747650</td>\n",
       "    </tr>\n",
       "    <tr>\n",
       "      <th>3</th>\n",
       "      <td>rear wheel drive</td>\n",
       "      <td>55064.830317</td>\n",
       "    </tr>\n",
       "  </tbody>\n",
       "</table>\n",
       "</div>"
      ],
      "text/plain": [
       "       Driven_Wheels          MSRP\n",
       "0    all wheel drive  58693.884828\n",
       "1   four wheel drive  35312.039914\n",
       "2  front wheel drive  23056.747650\n",
       "3   rear wheel drive  55064.830317"
      ]
     },
     "execution_count": 41,
     "metadata": {},
     "output_type": "execute_result"
    }
   ],
   "source": [
    "car_group1 = car_group1.groupby([\"Driven_Wheels\"], as_index = False).mean()\n",
    "car_group1"
   ]
  },
  {
   "cell_type": "code",
   "execution_count": 42,
   "id": "2aa71b2b",
   "metadata": {},
   "outputs": [
    {
     "data": {
      "text/html": [
       "<div>\n",
       "<style scoped>\n",
       "    .dataframe tbody tr th:only-of-type {\n",
       "        vertical-align: middle;\n",
       "    }\n",
       "\n",
       "    .dataframe tbody tr th {\n",
       "        vertical-align: top;\n",
       "    }\n",
       "\n",
       "    .dataframe thead th {\n",
       "        text-align: right;\n",
       "    }\n",
       "</style>\n",
       "<table border=\"1\" class=\"dataframe\">\n",
       "  <thead>\n",
       "    <tr style=\"text-align: right;\">\n",
       "      <th></th>\n",
       "      <th>Driven_Wheels</th>\n",
       "      <th>Vehicle Style</th>\n",
       "      <th>MSRP</th>\n",
       "    </tr>\n",
       "  </thead>\n",
       "  <tbody>\n",
       "    <tr>\n",
       "      <th>0</th>\n",
       "      <td>all wheel drive</td>\n",
       "      <td>2dr Hatchback</td>\n",
       "      <td>9240.800000</td>\n",
       "    </tr>\n",
       "    <tr>\n",
       "      <th>1</th>\n",
       "      <td>all wheel drive</td>\n",
       "      <td>2dr SUV</td>\n",
       "      <td>35551.363636</td>\n",
       "    </tr>\n",
       "    <tr>\n",
       "      <th>2</th>\n",
       "      <td>all wheel drive</td>\n",
       "      <td>4dr Hatchback</td>\n",
       "      <td>32109.603960</td>\n",
       "    </tr>\n",
       "    <tr>\n",
       "      <th>3</th>\n",
       "      <td>all wheel drive</td>\n",
       "      <td>4dr SUV</td>\n",
       "      <td>40842.668699</td>\n",
       "    </tr>\n",
       "    <tr>\n",
       "      <th>4</th>\n",
       "      <td>all wheel drive</td>\n",
       "      <td>Cargo Minivan</td>\n",
       "      <td>25025.000000</td>\n",
       "    </tr>\n",
       "    <tr>\n",
       "      <th>5</th>\n",
       "      <td>all wheel drive</td>\n",
       "      <td>Cargo Van</td>\n",
       "      <td>32760.000000</td>\n",
       "    </tr>\n",
       "    <tr>\n",
       "      <th>6</th>\n",
       "      <td>all wheel drive</td>\n",
       "      <td>Convertible</td>\n",
       "      <td>166135.094340</td>\n",
       "    </tr>\n",
       "    <tr>\n",
       "      <th>7</th>\n",
       "      <td>all wheel drive</td>\n",
       "      <td>Convertible SUV</td>\n",
       "      <td>47975.000000</td>\n",
       "    </tr>\n",
       "    <tr>\n",
       "      <th>8</th>\n",
       "      <td>all wheel drive</td>\n",
       "      <td>Coupe</td>\n",
       "      <td>153839.522843</td>\n",
       "    </tr>\n",
       "    <tr>\n",
       "      <th>9</th>\n",
       "      <td>all wheel drive</td>\n",
       "      <td>Crew Cab Pickup</td>\n",
       "      <td>38490.810811</td>\n",
       "    </tr>\n",
       "    <tr>\n",
       "      <th>10</th>\n",
       "      <td>all wheel drive</td>\n",
       "      <td>Extended Cab Pickup</td>\n",
       "      <td>38370.000000</td>\n",
       "    </tr>\n",
       "    <tr>\n",
       "      <th>11</th>\n",
       "      <td>all wheel drive</td>\n",
       "      <td>Passenger Minivan</td>\n",
       "      <td>27812.132075</td>\n",
       "    </tr>\n",
       "    <tr>\n",
       "      <th>12</th>\n",
       "      <td>all wheel drive</td>\n",
       "      <td>Passenger Van</td>\n",
       "      <td>34525.000000</td>\n",
       "    </tr>\n",
       "    <tr>\n",
       "      <th>13</th>\n",
       "      <td>all wheel drive</td>\n",
       "      <td>Regular Cab Pickup</td>\n",
       "      <td>5667.000000</td>\n",
       "    </tr>\n",
       "    <tr>\n",
       "      <th>14</th>\n",
       "      <td>all wheel drive</td>\n",
       "      <td>Sedan</td>\n",
       "      <td>54452.355556</td>\n",
       "    </tr>\n",
       "    <tr>\n",
       "      <th>15</th>\n",
       "      <td>all wheel drive</td>\n",
       "      <td>Wagon</td>\n",
       "      <td>37358.648148</td>\n",
       "    </tr>\n",
       "    <tr>\n",
       "      <th>16</th>\n",
       "      <td>four wheel drive</td>\n",
       "      <td>2dr Hatchback</td>\n",
       "      <td>2000.000000</td>\n",
       "    </tr>\n",
       "    <tr>\n",
       "      <th>17</th>\n",
       "      <td>four wheel drive</td>\n",
       "      <td>2dr SUV</td>\n",
       "      <td>8162.347826</td>\n",
       "    </tr>\n",
       "    <tr>\n",
       "      <th>18</th>\n",
       "      <td>four wheel drive</td>\n",
       "      <td>4dr Hatchback</td>\n",
       "      <td>2000.000000</td>\n",
       "    </tr>\n",
       "    <tr>\n",
       "      <th>19</th>\n",
       "      <td>four wheel drive</td>\n",
       "      <td>4dr SUV</td>\n",
       "      <td>50361.705645</td>\n",
       "    </tr>\n",
       "    <tr>\n",
       "      <th>20</th>\n",
       "      <td>four wheel drive</td>\n",
       "      <td>Convertible SUV</td>\n",
       "      <td>11766.533333</td>\n",
       "    </tr>\n",
       "    <tr>\n",
       "      <th>21</th>\n",
       "      <td>four wheel drive</td>\n",
       "      <td>Crew Cab Pickup</td>\n",
       "      <td>38631.300578</td>\n",
       "    </tr>\n",
       "    <tr>\n",
       "      <th>22</th>\n",
       "      <td>four wheel drive</td>\n",
       "      <td>Extended Cab Pickup</td>\n",
       "      <td>24808.683333</td>\n",
       "    </tr>\n",
       "    <tr>\n",
       "      <th>23</th>\n",
       "      <td>four wheel drive</td>\n",
       "      <td>Passenger Minivan</td>\n",
       "      <td>2000.000000</td>\n",
       "    </tr>\n",
       "    <tr>\n",
       "      <th>24</th>\n",
       "      <td>four wheel drive</td>\n",
       "      <td>Regular Cab Pickup</td>\n",
       "      <td>18602.089744</td>\n",
       "    </tr>\n",
       "    <tr>\n",
       "      <th>25</th>\n",
       "      <td>four wheel drive</td>\n",
       "      <td>Sedan</td>\n",
       "      <td>16145.000000</td>\n",
       "    </tr>\n",
       "    <tr>\n",
       "      <th>26</th>\n",
       "      <td>four wheel drive</td>\n",
       "      <td>Wagon</td>\n",
       "      <td>2000.000000</td>\n",
       "    </tr>\n",
       "    <tr>\n",
       "      <th>27</th>\n",
       "      <td>front wheel drive</td>\n",
       "      <td>2dr Hatchback</td>\n",
       "      <td>17050.186047</td>\n",
       "    </tr>\n",
       "    <tr>\n",
       "      <th>28</th>\n",
       "      <td>front wheel drive</td>\n",
       "      <td>4dr Hatchback</td>\n",
       "      <td>20567.740995</td>\n",
       "    </tr>\n",
       "    <tr>\n",
       "      <th>29</th>\n",
       "      <td>front wheel drive</td>\n",
       "      <td>4dr SUV</td>\n",
       "      <td>31842.499208</td>\n",
       "    </tr>\n",
       "    <tr>\n",
       "      <th>30</th>\n",
       "      <td>front wheel drive</td>\n",
       "      <td>Cargo Minivan</td>\n",
       "      <td>21535.925926</td>\n",
       "    </tr>\n",
       "    <tr>\n",
       "      <th>31</th>\n",
       "      <td>front wheel drive</td>\n",
       "      <td>Convertible</td>\n",
       "      <td>25751.936441</td>\n",
       "    </tr>\n",
       "    <tr>\n",
       "      <th>32</th>\n",
       "      <td>front wheel drive</td>\n",
       "      <td>Coupe</td>\n",
       "      <td>14316.455621</td>\n",
       "    </tr>\n",
       "    <tr>\n",
       "      <th>33</th>\n",
       "      <td>front wheel drive</td>\n",
       "      <td>Crew Cab Pickup</td>\n",
       "      <td>32743.000000</td>\n",
       "    </tr>\n",
       "    <tr>\n",
       "      <th>34</th>\n",
       "      <td>front wheel drive</td>\n",
       "      <td>Passenger Minivan</td>\n",
       "      <td>27436.131498</td>\n",
       "    </tr>\n",
       "    <tr>\n",
       "      <th>35</th>\n",
       "      <td>front wheel drive</td>\n",
       "      <td>Sedan</td>\n",
       "      <td>23017.168817</td>\n",
       "    </tr>\n",
       "    <tr>\n",
       "      <th>36</th>\n",
       "      <td>front wheel drive</td>\n",
       "      <td>Wagon</td>\n",
       "      <td>22324.935574</td>\n",
       "    </tr>\n",
       "    <tr>\n",
       "      <th>37</th>\n",
       "      <td>rear wheel drive</td>\n",
       "      <td>2dr Hatchback</td>\n",
       "      <td>17805.571429</td>\n",
       "    </tr>\n",
       "    <tr>\n",
       "      <th>38</th>\n",
       "      <td>rear wheel drive</td>\n",
       "      <td>2dr SUV</td>\n",
       "      <td>7614.293103</td>\n",
       "    </tr>\n",
       "    <tr>\n",
       "      <th>39</th>\n",
       "      <td>rear wheel drive</td>\n",
       "      <td>4dr Hatchback</td>\n",
       "      <td>44671.363636</td>\n",
       "    </tr>\n",
       "    <tr>\n",
       "      <th>40</th>\n",
       "      <td>rear wheel drive</td>\n",
       "      <td>4dr SUV</td>\n",
       "      <td>40605.856764</td>\n",
       "    </tr>\n",
       "    <tr>\n",
       "      <th>41</th>\n",
       "      <td>rear wheel drive</td>\n",
       "      <td>Cargo Minivan</td>\n",
       "      <td>15663.636364</td>\n",
       "    </tr>\n",
       "    <tr>\n",
       "      <th>42</th>\n",
       "      <td>rear wheel drive</td>\n",
       "      <td>Cargo Van</td>\n",
       "      <td>14904.311828</td>\n",
       "    </tr>\n",
       "    <tr>\n",
       "      <th>43</th>\n",
       "      <td>rear wheel drive</td>\n",
       "      <td>Convertible</td>\n",
       "      <td>95570.024390</td>\n",
       "    </tr>\n",
       "    <tr>\n",
       "      <th>44</th>\n",
       "      <td>rear wheel drive</td>\n",
       "      <td>Convertible SUV</td>\n",
       "      <td>9880.777778</td>\n",
       "    </tr>\n",
       "    <tr>\n",
       "      <th>45</th>\n",
       "      <td>rear wheel drive</td>\n",
       "      <td>Coupe</td>\n",
       "      <td>84602.618343</td>\n",
       "    </tr>\n",
       "    <tr>\n",
       "      <th>46</th>\n",
       "      <td>rear wheel drive</td>\n",
       "      <td>Crew Cab Pickup</td>\n",
       "      <td>35470.419795</td>\n",
       "    </tr>\n",
       "    <tr>\n",
       "      <th>47</th>\n",
       "      <td>rear wheel drive</td>\n",
       "      <td>Extended Cab Pickup</td>\n",
       "      <td>20278.052795</td>\n",
       "    </tr>\n",
       "    <tr>\n",
       "      <th>48</th>\n",
       "      <td>rear wheel drive</td>\n",
       "      <td>Passenger Minivan</td>\n",
       "      <td>6979.393939</td>\n",
       "    </tr>\n",
       "    <tr>\n",
       "      <th>49</th>\n",
       "      <td>rear wheel drive</td>\n",
       "      <td>Passenger Van</td>\n",
       "      <td>28927.746032</td>\n",
       "    </tr>\n",
       "    <tr>\n",
       "      <th>50</th>\n",
       "      <td>rear wheel drive</td>\n",
       "      <td>Regular Cab Pickup</td>\n",
       "      <td>14239.408511</td>\n",
       "    </tr>\n",
       "    <tr>\n",
       "      <th>51</th>\n",
       "      <td>rear wheel drive</td>\n",
       "      <td>Sedan</td>\n",
       "      <td>71489.547009</td>\n",
       "    </tr>\n",
       "    <tr>\n",
       "      <th>52</th>\n",
       "      <td>rear wheel drive</td>\n",
       "      <td>Wagon</td>\n",
       "      <td>15745.671429</td>\n",
       "    </tr>\n",
       "  </tbody>\n",
       "</table>\n",
       "</div>"
      ],
      "text/plain": [
       "        Driven_Wheels        Vehicle Style           MSRP\n",
       "0     all wheel drive        2dr Hatchback    9240.800000\n",
       "1     all wheel drive              2dr SUV   35551.363636\n",
       "2     all wheel drive        4dr Hatchback   32109.603960\n",
       "3     all wheel drive              4dr SUV   40842.668699\n",
       "4     all wheel drive        Cargo Minivan   25025.000000\n",
       "5     all wheel drive            Cargo Van   32760.000000\n",
       "6     all wheel drive          Convertible  166135.094340\n",
       "7     all wheel drive      Convertible SUV   47975.000000\n",
       "8     all wheel drive                Coupe  153839.522843\n",
       "9     all wheel drive      Crew Cab Pickup   38490.810811\n",
       "10    all wheel drive  Extended Cab Pickup   38370.000000\n",
       "11    all wheel drive    Passenger Minivan   27812.132075\n",
       "12    all wheel drive        Passenger Van   34525.000000\n",
       "13    all wheel drive   Regular Cab Pickup    5667.000000\n",
       "14    all wheel drive                Sedan   54452.355556\n",
       "15    all wheel drive                Wagon   37358.648148\n",
       "16   four wheel drive        2dr Hatchback    2000.000000\n",
       "17   four wheel drive              2dr SUV    8162.347826\n",
       "18   four wheel drive        4dr Hatchback    2000.000000\n",
       "19   four wheel drive              4dr SUV   50361.705645\n",
       "20   four wheel drive      Convertible SUV   11766.533333\n",
       "21   four wheel drive      Crew Cab Pickup   38631.300578\n",
       "22   four wheel drive  Extended Cab Pickup   24808.683333\n",
       "23   four wheel drive    Passenger Minivan    2000.000000\n",
       "24   four wheel drive   Regular Cab Pickup   18602.089744\n",
       "25   four wheel drive                Sedan   16145.000000\n",
       "26   four wheel drive                Wagon    2000.000000\n",
       "27  front wheel drive        2dr Hatchback   17050.186047\n",
       "28  front wheel drive        4dr Hatchback   20567.740995\n",
       "29  front wheel drive              4dr SUV   31842.499208\n",
       "30  front wheel drive        Cargo Minivan   21535.925926\n",
       "31  front wheel drive          Convertible   25751.936441\n",
       "32  front wheel drive                Coupe   14316.455621\n",
       "33  front wheel drive      Crew Cab Pickup   32743.000000\n",
       "34  front wheel drive    Passenger Minivan   27436.131498\n",
       "35  front wheel drive                Sedan   23017.168817\n",
       "36  front wheel drive                Wagon   22324.935574\n",
       "37   rear wheel drive        2dr Hatchback   17805.571429\n",
       "38   rear wheel drive              2dr SUV    7614.293103\n",
       "39   rear wheel drive        4dr Hatchback   44671.363636\n",
       "40   rear wheel drive              4dr SUV   40605.856764\n",
       "41   rear wheel drive        Cargo Minivan   15663.636364\n",
       "42   rear wheel drive            Cargo Van   14904.311828\n",
       "43   rear wheel drive          Convertible   95570.024390\n",
       "44   rear wheel drive      Convertible SUV    9880.777778\n",
       "45   rear wheel drive                Coupe   84602.618343\n",
       "46   rear wheel drive      Crew Cab Pickup   35470.419795\n",
       "47   rear wheel drive  Extended Cab Pickup   20278.052795\n",
       "48   rear wheel drive    Passenger Minivan    6979.393939\n",
       "49   rear wheel drive        Passenger Van   28927.746032\n",
       "50   rear wheel drive   Regular Cab Pickup   14239.408511\n",
       "51   rear wheel drive                Sedan   71489.547009\n",
       "52   rear wheel drive                Wagon   15745.671429"
      ]
     },
     "execution_count": 42,
     "metadata": {},
     "output_type": "execute_result"
    }
   ],
   "source": [
    "#we can also group with multiple variables\n",
    "car_gptest = car[[\"Driven_Wheels\", \"Vehicle Style\", \"MSRP\"]]\n",
    "\n",
    "grouped_test1 = car_gptest.groupby([\"Driven_Wheels\", \"Vehicle Style\"], as_index = False).mean()\n",
    "grouped_test1"
   ]
  },
  {
   "cell_type": "code",
   "execution_count": 43,
   "id": "4a290b3d",
   "metadata": {},
   "outputs": [
    {
     "data": {
      "text/html": [
       "<div>\n",
       "<style scoped>\n",
       "    .dataframe tbody tr th:only-of-type {\n",
       "        vertical-align: middle;\n",
       "    }\n",
       "\n",
       "    .dataframe tbody tr th {\n",
       "        vertical-align: top;\n",
       "    }\n",
       "\n",
       "    .dataframe thead tr th {\n",
       "        text-align: left;\n",
       "    }\n",
       "\n",
       "    .dataframe thead tr:last-of-type th {\n",
       "        text-align: right;\n",
       "    }\n",
       "</style>\n",
       "<table border=\"1\" class=\"dataframe\">\n",
       "  <thead>\n",
       "    <tr>\n",
       "      <th></th>\n",
       "      <th colspan=\"16\" halign=\"left\">MSRP</th>\n",
       "    </tr>\n",
       "    <tr>\n",
       "      <th>Vehicle Style</th>\n",
       "      <th>2dr Hatchback</th>\n",
       "      <th>2dr SUV</th>\n",
       "      <th>4dr Hatchback</th>\n",
       "      <th>4dr SUV</th>\n",
       "      <th>Cargo Minivan</th>\n",
       "      <th>Cargo Van</th>\n",
       "      <th>Convertible</th>\n",
       "      <th>Convertible SUV</th>\n",
       "      <th>Coupe</th>\n",
       "      <th>Crew Cab Pickup</th>\n",
       "      <th>Extended Cab Pickup</th>\n",
       "      <th>Passenger Minivan</th>\n",
       "      <th>Passenger Van</th>\n",
       "      <th>Regular Cab Pickup</th>\n",
       "      <th>Sedan</th>\n",
       "      <th>Wagon</th>\n",
       "    </tr>\n",
       "    <tr>\n",
       "      <th>Driven_Wheels</th>\n",
       "      <th></th>\n",
       "      <th></th>\n",
       "      <th></th>\n",
       "      <th></th>\n",
       "      <th></th>\n",
       "      <th></th>\n",
       "      <th></th>\n",
       "      <th></th>\n",
       "      <th></th>\n",
       "      <th></th>\n",
       "      <th></th>\n",
       "      <th></th>\n",
       "      <th></th>\n",
       "      <th></th>\n",
       "      <th></th>\n",
       "      <th></th>\n",
       "    </tr>\n",
       "  </thead>\n",
       "  <tbody>\n",
       "    <tr>\n",
       "      <th>all wheel drive</th>\n",
       "      <td>9240.800000</td>\n",
       "      <td>35551.363636</td>\n",
       "      <td>32109.603960</td>\n",
       "      <td>40842.668699</td>\n",
       "      <td>25025.000000</td>\n",
       "      <td>32760.000000</td>\n",
       "      <td>166135.094340</td>\n",
       "      <td>47975.000000</td>\n",
       "      <td>153839.522843</td>\n",
       "      <td>38490.810811</td>\n",
       "      <td>38370.000000</td>\n",
       "      <td>27812.132075</td>\n",
       "      <td>34525.000000</td>\n",
       "      <td>5667.000000</td>\n",
       "      <td>54452.355556</td>\n",
       "      <td>37358.648148</td>\n",
       "    </tr>\n",
       "    <tr>\n",
       "      <th>four wheel drive</th>\n",
       "      <td>2000.000000</td>\n",
       "      <td>8162.347826</td>\n",
       "      <td>2000.000000</td>\n",
       "      <td>50361.705645</td>\n",
       "      <td>NaN</td>\n",
       "      <td>NaN</td>\n",
       "      <td>NaN</td>\n",
       "      <td>11766.533333</td>\n",
       "      <td>NaN</td>\n",
       "      <td>38631.300578</td>\n",
       "      <td>24808.683333</td>\n",
       "      <td>2000.000000</td>\n",
       "      <td>NaN</td>\n",
       "      <td>18602.089744</td>\n",
       "      <td>16145.000000</td>\n",
       "      <td>2000.000000</td>\n",
       "    </tr>\n",
       "    <tr>\n",
       "      <th>front wheel drive</th>\n",
       "      <td>17050.186047</td>\n",
       "      <td>NaN</td>\n",
       "      <td>20567.740995</td>\n",
       "      <td>31842.499208</td>\n",
       "      <td>21535.925926</td>\n",
       "      <td>NaN</td>\n",
       "      <td>25751.936441</td>\n",
       "      <td>NaN</td>\n",
       "      <td>14316.455621</td>\n",
       "      <td>32743.000000</td>\n",
       "      <td>NaN</td>\n",
       "      <td>27436.131498</td>\n",
       "      <td>NaN</td>\n",
       "      <td>NaN</td>\n",
       "      <td>23017.168817</td>\n",
       "      <td>22324.935574</td>\n",
       "    </tr>\n",
       "    <tr>\n",
       "      <th>rear wheel drive</th>\n",
       "      <td>17805.571429</td>\n",
       "      <td>7614.293103</td>\n",
       "      <td>44671.363636</td>\n",
       "      <td>40605.856764</td>\n",
       "      <td>15663.636364</td>\n",
       "      <td>14904.311828</td>\n",
       "      <td>95570.024390</td>\n",
       "      <td>9880.777778</td>\n",
       "      <td>84602.618343</td>\n",
       "      <td>35470.419795</td>\n",
       "      <td>20278.052795</td>\n",
       "      <td>6979.393939</td>\n",
       "      <td>28927.746032</td>\n",
       "      <td>14239.408511</td>\n",
       "      <td>71489.547009</td>\n",
       "      <td>15745.671429</td>\n",
       "    </tr>\n",
       "  </tbody>\n",
       "</table>\n",
       "</div>"
      ],
      "text/plain": [
       "                           MSRP                                            \\\n",
       "Vehicle Style     2dr Hatchback       2dr SUV 4dr Hatchback       4dr SUV   \n",
       "Driven_Wheels                                                               \n",
       "all wheel drive     9240.800000  35551.363636  32109.603960  40842.668699   \n",
       "four wheel drive    2000.000000   8162.347826   2000.000000  50361.705645   \n",
       "front wheel drive  17050.186047           NaN  20567.740995  31842.499208   \n",
       "rear wheel drive   17805.571429   7614.293103  44671.363636  40605.856764   \n",
       "\n",
       "                                                                              \\\n",
       "Vehicle Style     Cargo Minivan     Cargo Van    Convertible Convertible SUV   \n",
       "Driven_Wheels                                                                  \n",
       "all wheel drive    25025.000000  32760.000000  166135.094340    47975.000000   \n",
       "four wheel drive            NaN           NaN            NaN    11766.533333   \n",
       "front wheel drive  21535.925926           NaN   25751.936441             NaN   \n",
       "rear wheel drive   15663.636364  14904.311828   95570.024390     9880.777778   \n",
       "\n",
       "                                                                      \\\n",
       "Vehicle Style              Coupe Crew Cab Pickup Extended Cab Pickup   \n",
       "Driven_Wheels                                                          \n",
       "all wheel drive    153839.522843    38490.810811        38370.000000   \n",
       "four wheel drive             NaN    38631.300578        24808.683333   \n",
       "front wheel drive   14316.455621    32743.000000                 NaN   \n",
       "rear wheel drive    84602.618343    35470.419795        20278.052795   \n",
       "\n",
       "                                                                      \\\n",
       "Vehicle Style     Passenger Minivan Passenger Van Regular Cab Pickup   \n",
       "Driven_Wheels                                                          \n",
       "all wheel drive        27812.132075  34525.000000        5667.000000   \n",
       "four wheel drive        2000.000000           NaN       18602.089744   \n",
       "front wheel drive      27436.131498           NaN                NaN   \n",
       "rear wheel drive        6979.393939  28927.746032       14239.408511   \n",
       "\n",
       "                                               \n",
       "Vehicle Style             Sedan         Wagon  \n",
       "Driven_Wheels                                  \n",
       "all wheel drive    54452.355556  37358.648148  \n",
       "four wheel drive   16145.000000   2000.000000  \n",
       "front wheel drive  23017.168817  22324.935574  \n",
       "rear wheel drive   71489.547009  15745.671429  "
      ]
     },
     "execution_count": 43,
     "metadata": {},
     "output_type": "execute_result"
    }
   ],
   "source": [
    "#this grouped data is much easier to visualize when it is made into a pivot table\n",
    "#a pivot table is like an excel spreedshit\n",
    "\n",
    "grouped_pivot = grouped_test1.pivot(index = \"Driven_Wheels\", columns = \"Vehicle Style\")\n",
    "grouped_pivot"
   ]
  },
  {
   "cell_type": "code",
   "execution_count": 44,
   "id": "bcaa16cd",
   "metadata": {},
   "outputs": [
    {
     "data": {
      "text/html": [
       "<div>\n",
       "<style scoped>\n",
       "    .dataframe tbody tr th:only-of-type {\n",
       "        vertical-align: middle;\n",
       "    }\n",
       "\n",
       "    .dataframe tbody tr th {\n",
       "        vertical-align: top;\n",
       "    }\n",
       "\n",
       "    .dataframe thead tr th {\n",
       "        text-align: left;\n",
       "    }\n",
       "\n",
       "    .dataframe thead tr:last-of-type th {\n",
       "        text-align: right;\n",
       "    }\n",
       "</style>\n",
       "<table border=\"1\" class=\"dataframe\">\n",
       "  <thead>\n",
       "    <tr>\n",
       "      <th></th>\n",
       "      <th colspan=\"16\" halign=\"left\">MSRP</th>\n",
       "    </tr>\n",
       "    <tr>\n",
       "      <th>Vehicle Style</th>\n",
       "      <th>2dr Hatchback</th>\n",
       "      <th>2dr SUV</th>\n",
       "      <th>4dr Hatchback</th>\n",
       "      <th>4dr SUV</th>\n",
       "      <th>Cargo Minivan</th>\n",
       "      <th>Cargo Van</th>\n",
       "      <th>Convertible</th>\n",
       "      <th>Convertible SUV</th>\n",
       "      <th>Coupe</th>\n",
       "      <th>Crew Cab Pickup</th>\n",
       "      <th>Extended Cab Pickup</th>\n",
       "      <th>Passenger Minivan</th>\n",
       "      <th>Passenger Van</th>\n",
       "      <th>Regular Cab Pickup</th>\n",
       "      <th>Sedan</th>\n",
       "      <th>Wagon</th>\n",
       "    </tr>\n",
       "    <tr>\n",
       "      <th>Driven_Wheels</th>\n",
       "      <th></th>\n",
       "      <th></th>\n",
       "      <th></th>\n",
       "      <th></th>\n",
       "      <th></th>\n",
       "      <th></th>\n",
       "      <th></th>\n",
       "      <th></th>\n",
       "      <th></th>\n",
       "      <th></th>\n",
       "      <th></th>\n",
       "      <th></th>\n",
       "      <th></th>\n",
       "      <th></th>\n",
       "      <th></th>\n",
       "      <th></th>\n",
       "    </tr>\n",
       "  </thead>\n",
       "  <tbody>\n",
       "    <tr>\n",
       "      <th>all wheel drive</th>\n",
       "      <td>9240.800000</td>\n",
       "      <td>35551.363636</td>\n",
       "      <td>32109.603960</td>\n",
       "      <td>40842.668699</td>\n",
       "      <td>25025.000000</td>\n",
       "      <td>32760.000000</td>\n",
       "      <td>166135.094340</td>\n",
       "      <td>47975.000000</td>\n",
       "      <td>153839.522843</td>\n",
       "      <td>38490.810811</td>\n",
       "      <td>38370.000000</td>\n",
       "      <td>27812.132075</td>\n",
       "      <td>34525.000000</td>\n",
       "      <td>5667.000000</td>\n",
       "      <td>54452.355556</td>\n",
       "      <td>37358.648148</td>\n",
       "    </tr>\n",
       "    <tr>\n",
       "      <th>four wheel drive</th>\n",
       "      <td>2000.000000</td>\n",
       "      <td>8162.347826</td>\n",
       "      <td>2000.000000</td>\n",
       "      <td>50361.705645</td>\n",
       "      <td>0.000000</td>\n",
       "      <td>0.000000</td>\n",
       "      <td>0.000000</td>\n",
       "      <td>11766.533333</td>\n",
       "      <td>0.000000</td>\n",
       "      <td>38631.300578</td>\n",
       "      <td>24808.683333</td>\n",
       "      <td>2000.000000</td>\n",
       "      <td>0.000000</td>\n",
       "      <td>18602.089744</td>\n",
       "      <td>16145.000000</td>\n",
       "      <td>2000.000000</td>\n",
       "    </tr>\n",
       "    <tr>\n",
       "      <th>front wheel drive</th>\n",
       "      <td>17050.186047</td>\n",
       "      <td>0.000000</td>\n",
       "      <td>20567.740995</td>\n",
       "      <td>31842.499208</td>\n",
       "      <td>21535.925926</td>\n",
       "      <td>0.000000</td>\n",
       "      <td>25751.936441</td>\n",
       "      <td>0.000000</td>\n",
       "      <td>14316.455621</td>\n",
       "      <td>32743.000000</td>\n",
       "      <td>0.000000</td>\n",
       "      <td>27436.131498</td>\n",
       "      <td>0.000000</td>\n",
       "      <td>0.000000</td>\n",
       "      <td>23017.168817</td>\n",
       "      <td>22324.935574</td>\n",
       "    </tr>\n",
       "    <tr>\n",
       "      <th>rear wheel drive</th>\n",
       "      <td>17805.571429</td>\n",
       "      <td>7614.293103</td>\n",
       "      <td>44671.363636</td>\n",
       "      <td>40605.856764</td>\n",
       "      <td>15663.636364</td>\n",
       "      <td>14904.311828</td>\n",
       "      <td>95570.024390</td>\n",
       "      <td>9880.777778</td>\n",
       "      <td>84602.618343</td>\n",
       "      <td>35470.419795</td>\n",
       "      <td>20278.052795</td>\n",
       "      <td>6979.393939</td>\n",
       "      <td>28927.746032</td>\n",
       "      <td>14239.408511</td>\n",
       "      <td>71489.547009</td>\n",
       "      <td>15745.671429</td>\n",
       "    </tr>\n",
       "  </tbody>\n",
       "</table>\n",
       "</div>"
      ],
      "text/plain": [
       "                           MSRP                                            \\\n",
       "Vehicle Style     2dr Hatchback       2dr SUV 4dr Hatchback       4dr SUV   \n",
       "Driven_Wheels                                                               \n",
       "all wheel drive     9240.800000  35551.363636  32109.603960  40842.668699   \n",
       "four wheel drive    2000.000000   8162.347826   2000.000000  50361.705645   \n",
       "front wheel drive  17050.186047      0.000000  20567.740995  31842.499208   \n",
       "rear wheel drive   17805.571429   7614.293103  44671.363636  40605.856764   \n",
       "\n",
       "                                                                              \\\n",
       "Vehicle Style     Cargo Minivan     Cargo Van    Convertible Convertible SUV   \n",
       "Driven_Wheels                                                                  \n",
       "all wheel drive    25025.000000  32760.000000  166135.094340    47975.000000   \n",
       "four wheel drive       0.000000      0.000000       0.000000    11766.533333   \n",
       "front wheel drive  21535.925926      0.000000   25751.936441        0.000000   \n",
       "rear wheel drive   15663.636364  14904.311828   95570.024390     9880.777778   \n",
       "\n",
       "                                                                      \\\n",
       "Vehicle Style              Coupe Crew Cab Pickup Extended Cab Pickup   \n",
       "Driven_Wheels                                                          \n",
       "all wheel drive    153839.522843    38490.810811        38370.000000   \n",
       "four wheel drive        0.000000    38631.300578        24808.683333   \n",
       "front wheel drive   14316.455621    32743.000000            0.000000   \n",
       "rear wheel drive    84602.618343    35470.419795        20278.052795   \n",
       "\n",
       "                                                                      \\\n",
       "Vehicle Style     Passenger Minivan Passenger Van Regular Cab Pickup   \n",
       "Driven_Wheels                                                          \n",
       "all wheel drive        27812.132075  34525.000000        5667.000000   \n",
       "four wheel drive        2000.000000      0.000000       18602.089744   \n",
       "front wheel drive      27436.131498      0.000000           0.000000   \n",
       "rear wheel drive        6979.393939  28927.746032       14239.408511   \n",
       "\n",
       "                                               \n",
       "Vehicle Style             Sedan         Wagon  \n",
       "Driven_Wheels                                  \n",
       "all wheel drive    54452.355556  37358.648148  \n",
       "four wheel drive   16145.000000   2000.000000  \n",
       "front wheel drive  23017.168817  22324.935574  \n",
       "rear wheel drive   71489.547009  15745.671429  "
      ]
     },
     "execution_count": 44,
     "metadata": {},
     "output_type": "execute_result"
    }
   ],
   "source": [
    "grouped_pivot = grouped_pivot.fillna(0)\n",
    "\n",
    "grouped_pivot"
   ]
  },
  {
   "cell_type": "markdown",
   "id": "db5e45a9",
   "metadata": {},
   "source": [
    "## Question: use the : \"groupby\" function to find the average \"price\" of each car based on \"Vehicle Style\""
   ]
  },
  {
   "cell_type": "code",
   "execution_count": 45,
   "id": "54072250",
   "metadata": {},
   "outputs": [
    {
     "data": {
      "text/html": [
       "<div>\n",
       "<style scoped>\n",
       "    .dataframe tbody tr th:only-of-type {\n",
       "        vertical-align: middle;\n",
       "    }\n",
       "\n",
       "    .dataframe tbody tr th {\n",
       "        vertical-align: top;\n",
       "    }\n",
       "\n",
       "    .dataframe thead th {\n",
       "        text-align: right;\n",
       "    }\n",
       "</style>\n",
       "<table border=\"1\" class=\"dataframe\">\n",
       "  <thead>\n",
       "    <tr style=\"text-align: right;\">\n",
       "      <th></th>\n",
       "      <th>Vehicle Style</th>\n",
       "      <th>MSRP</th>\n",
       "    </tr>\n",
       "  </thead>\n",
       "  <tbody>\n",
       "    <tr>\n",
       "      <th>0</th>\n",
       "      <td>Coupe</td>\n",
       "      <td>46135</td>\n",
       "    </tr>\n",
       "    <tr>\n",
       "      <th>1</th>\n",
       "      <td>Convertible</td>\n",
       "      <td>40650</td>\n",
       "    </tr>\n",
       "    <tr>\n",
       "      <th>2</th>\n",
       "      <td>Coupe</td>\n",
       "      <td>36350</td>\n",
       "    </tr>\n",
       "    <tr>\n",
       "      <th>3</th>\n",
       "      <td>Coupe</td>\n",
       "      <td>29450</td>\n",
       "    </tr>\n",
       "    <tr>\n",
       "      <th>4</th>\n",
       "      <td>Convertible</td>\n",
       "      <td>34500</td>\n",
       "    </tr>\n",
       "    <tr>\n",
       "      <th>...</th>\n",
       "      <td>...</td>\n",
       "      <td>...</td>\n",
       "    </tr>\n",
       "    <tr>\n",
       "      <th>11909</th>\n",
       "      <td>4dr Hatchback</td>\n",
       "      <td>46120</td>\n",
       "    </tr>\n",
       "    <tr>\n",
       "      <th>11910</th>\n",
       "      <td>4dr Hatchback</td>\n",
       "      <td>56670</td>\n",
       "    </tr>\n",
       "    <tr>\n",
       "      <th>11911</th>\n",
       "      <td>4dr Hatchback</td>\n",
       "      <td>50620</td>\n",
       "    </tr>\n",
       "    <tr>\n",
       "      <th>11912</th>\n",
       "      <td>4dr Hatchback</td>\n",
       "      <td>50920</td>\n",
       "    </tr>\n",
       "    <tr>\n",
       "      <th>11913</th>\n",
       "      <td>Sedan</td>\n",
       "      <td>28995</td>\n",
       "    </tr>\n",
       "  </tbody>\n",
       "</table>\n",
       "<p>11914 rows × 2 columns</p>\n",
       "</div>"
      ],
      "text/plain": [
       "       Vehicle Style   MSRP\n",
       "0              Coupe  46135\n",
       "1        Convertible  40650\n",
       "2              Coupe  36350\n",
       "3              Coupe  29450\n",
       "4        Convertible  34500\n",
       "...              ...    ...\n",
       "11909  4dr Hatchback  46120\n",
       "11910  4dr Hatchback  56670\n",
       "11911  4dr Hatchback  50620\n",
       "11912  4dr Hatchback  50920\n",
       "11913          Sedan  28995\n",
       "\n",
       "[11914 rows x 2 columns]"
      ]
     },
     "execution_count": 45,
     "metadata": {},
     "output_type": "execute_result"
    }
   ],
   "source": [
    "car_group2 = car[[\"Vehicle Style\",\"MSRP\"]]\n",
    "car_group2"
   ]
  },
  {
   "cell_type": "code",
   "execution_count": 46,
   "id": "6ab463cf",
   "metadata": {},
   "outputs": [
    {
     "data": {
      "text/html": [
       "<div>\n",
       "<style scoped>\n",
       "    .dataframe tbody tr th:only-of-type {\n",
       "        vertical-align: middle;\n",
       "    }\n",
       "\n",
       "    .dataframe tbody tr th {\n",
       "        vertical-align: top;\n",
       "    }\n",
       "\n",
       "    .dataframe thead th {\n",
       "        text-align: right;\n",
       "    }\n",
       "</style>\n",
       "<table border=\"1\" class=\"dataframe\">\n",
       "  <thead>\n",
       "    <tr style=\"text-align: right;\">\n",
       "      <th></th>\n",
       "      <th>MSRP</th>\n",
       "    </tr>\n",
       "    <tr>\n",
       "      <th>Vehicle Style</th>\n",
       "      <th></th>\n",
       "    </tr>\n",
       "  </thead>\n",
       "  <tbody>\n",
       "    <tr>\n",
       "      <th>2dr Hatchback</th>\n",
       "      <td>16867.713439</td>\n",
       "    </tr>\n",
       "    <tr>\n",
       "      <th>2dr SUV</th>\n",
       "      <td>10115.188406</td>\n",
       "    </tr>\n",
       "    <tr>\n",
       "      <th>4dr Hatchback</th>\n",
       "      <td>22420.866097</td>\n",
       "    </tr>\n",
       "    <tr>\n",
       "      <th>4dr SUV</th>\n",
       "      <td>40421.871785</td>\n",
       "    </tr>\n",
       "    <tr>\n",
       "      <th>Cargo Minivan</th>\n",
       "      <td>20920.985915</td>\n",
       "    </tr>\n",
       "    <tr>\n",
       "      <th>Cargo Van</th>\n",
       "      <td>15280.221053</td>\n",
       "    </tr>\n",
       "    <tr>\n",
       "      <th>Convertible</th>\n",
       "      <td>84224.284994</td>\n",
       "    </tr>\n",
       "    <tr>\n",
       "      <th>Convertible SUV</th>\n",
       "      <td>17424.137931</td>\n",
       "    </tr>\n",
       "    <tr>\n",
       "      <th>Coupe</th>\n",
       "      <td>76248.322048</td>\n",
       "    </tr>\n",
       "    <tr>\n",
       "      <th>Crew Cab Pickup</th>\n",
       "      <td>37220.466960</td>\n",
       "    </tr>\n",
       "    <tr>\n",
       "      <th>Extended Cab Pickup</th>\n",
       "      <td>22488.776886</td>\n",
       "    </tr>\n",
       "    <tr>\n",
       "      <th>Passenger Minivan</th>\n",
       "      <td>25621.050360</td>\n",
       "    </tr>\n",
       "    <tr>\n",
       "      <th>Passenger Van</th>\n",
       "      <td>29015.203125</td>\n",
       "    </tr>\n",
       "    <tr>\n",
       "      <th>Regular Cab Pickup</th>\n",
       "      <td>15953.709184</td>\n",
       "    </tr>\n",
       "    <tr>\n",
       "      <th>Sedan</th>\n",
       "      <td>39270.689633</td>\n",
       "    </tr>\n",
       "    <tr>\n",
       "      <th>Wagon</th>\n",
       "      <td>25557.939189</td>\n",
       "    </tr>\n",
       "  </tbody>\n",
       "</table>\n",
       "</div>"
      ],
      "text/plain": [
       "                             MSRP\n",
       "Vehicle Style                    \n",
       "2dr Hatchback        16867.713439\n",
       "2dr SUV              10115.188406\n",
       "4dr Hatchback        22420.866097\n",
       "4dr SUV              40421.871785\n",
       "Cargo Minivan        20920.985915\n",
       "Cargo Van            15280.221053\n",
       "Convertible          84224.284994\n",
       "Convertible SUV      17424.137931\n",
       "Coupe                76248.322048\n",
       "Crew Cab Pickup      37220.466960\n",
       "Extended Cab Pickup  22488.776886\n",
       "Passenger Minivan    25621.050360\n",
       "Passenger Van        29015.203125\n",
       "Regular Cab Pickup   15953.709184\n",
       "Sedan                39270.689633\n",
       "Wagon                25557.939189"
      ]
     },
     "execution_count": 46,
     "metadata": {},
     "output_type": "execute_result"
    }
   ],
   "source": [
    "car_group2 = car_group2.groupby([\"Vehicle Style\"]).mean()\n",
    "car_group2"
   ]
  },
  {
   "cell_type": "code",
   "execution_count": 47,
   "id": "e03ac29a",
   "metadata": {},
   "outputs": [
    {
     "data": {
      "text/plain": [
       "<matplotlib.colorbar.Colorbar at 0x127455be0>"
      ]
     },
     "execution_count": 47,
     "metadata": {},
     "output_type": "execute_result"
    },
    {
     "data": {
      "image/png": "[encoded data removed]",
      "text/plain": [
       "<Figure size 432x288 with 2 Axes>"
      ]
     },
     "metadata": {
      "needs_background": "light"
     },
     "output_type": "display_data"
    }
   ],
   "source": [
    "#lets use heatmap to visualize the relationship between Vehicle Style and MSRP\n",
    "\n",
    "plt.pcolor(grouped_pivot, cmap = \"RdBu\")\n",
    "plt.colorbar()\n",
    "#plt.show()"
   ]
  },
  {
   "cell_type": "code",
   "execution_count": 48,
   "id": "03f2736e",
   "metadata": {},
   "outputs": [
    {
     "data": {
      "text/plain": [
       "<AxesSubplot:xlabel='None-Vehicle Style', ylabel='Driven_Wheels'>"
      ]
     },
     "execution_count": 48,
     "metadata": {},
     "output_type": "execute_result"
    },
    {
     "data": {
      "image/png": "[encoded data removed]",
      "text/plain": [
       "<Figure size 432x288 with 2 Axes>"
      ]
     },
     "metadata": {
      "needs_background": "light"
     },
     "output_type": "display_data"
    }
   ],
   "source": [
    "sns.heatmap(grouped_pivot, annot = True)"
   ]
  },
  {
   "cell_type": "code",
   "execution_count": 49,
   "id": "6c7dbd2f",
   "metadata": {},
   "outputs": [
    {
     "data": {
      "text/plain": [
       "<function matplotlib.pyplot.show(close=None, block=None)>"
      ]
     },
     "execution_count": 49,
     "metadata": {},
     "output_type": "execute_result"
    },
    {
     "data": {
      "image/png": "[encoded data removed]",
      "text/plain": [
       "<Figure size 432x288 with 2 Axes>"
      ]
     },
     "metadata": {
      "needs_background": "light"
     },
     "output_type": "display_data"
    }
   ],
   "source": [
    " #the default labels convey no useful information to us, lets change that\n",
    "    \n",
    "fig, ax = plt.subplots()\n",
    "\n",
    "im = ax.pcolor(grouped_pivot, cmap = \"RdBu\")\n",
    "\n",
    "#label names\n",
    "row_labels = grouped_pivot.columns.levels[1]\n",
    "col_labels = grouped_pivot.index\n",
    "\n",
    "#move ticks and labels to the center\n",
    "ax.set_xticks(np.arange(grouped_pivot.shape[1]) + 0.5, minor = False) \n",
    "ax.set_yticks(np.arange(grouped_pivot.shape[0]) + 0.5, minor = False) \n",
    "\n",
    "#insert labels \n",
    "ax.set_xticklabels(row_labels, minor = False) \n",
    "ax.set_yticklabels(col_labels, minor = False)\n",
    "\n",
    "#rotate label if too long\n",
    "plt.xticks(rotation = 90)\n",
    "\n",
    "fig.colorbar(im)\n",
    "plt.show"
   ]
  },
  {
   "cell_type": "markdown",
   "id": "6fd1564b",
   "metadata": {},
   "source": [
    "## what are the main characteristics which have the most impact on the car price?\n",
    "### to get a better measure of the important characteristics, we look at the correlation of these variables \n",
    "### with the car price, in other words: how is the car price dependent on this variable?\n",
    "\n",
    "### CORRELATION: a measure of the extent of interdependence between variables.\n",
    "### CAUSATION: the relationship btw cause and effectbtw two variables.\n",
    "its important to know that correlation doesn't imply causation. determining correlation is much simplier than \n",
    "determining causation as causation my require independent experimentation.\n",
    "\n",
    "Pearson Correlation</p>\n",
    "\n",
    "The Pearson Correlation measures the linear dependence between two variables X and Y.\n",
    "\n",
    "The resulting coefficient is a value between -1 and 1 inclusive, where:\n",
    "\n",
    "1: Total positive linear correlation.\n",
    "0: No linear correlation, the two variables most likely do not affect each other.\n",
    "-1: Total negative linear correlation.\n",
    "\n"
   ]
  },
  {
   "cell_type": "markdown",
   "id": "1fcfd4a3",
   "metadata": {},
   "source": [
    "### P-value:\n",
    "\n",
    "What is this P-value? The P-value is the probability value that the correlation between these two variables is statistically significant. Normally, we choose a significance level of 0.05, which means that we are 95% confident that the correlation between the variables is significant.\n",
    "\n",
    "By convention, when the\n",
    "\n",
    "### p-value is  <  0.001: we say there is strong evidence that the correlation is significant.\n",
    "### the p-value is  <  0.05: there is moderate evidence that the correlation is significant.\n",
    "### the p-value is  <  0.1: there is weak evidence that the correlation is significant.\n",
    "### the p-value is  >  0.1: there is no evidence that the correlation is significant.\n",
    "### We can obtain this information using \"stats\" module in the \"scipy\" library."
   ]
  },
  {
   "cell_type": "code",
   "execution_count": 50,
   "id": "74490874",
   "metadata": {},
   "outputs": [],
   "source": [
    "car['Engine HP'].fillna(0, inplace=True)\n"
   ]
  },
  {
   "cell_type": "code",
   "execution_count": 51,
   "id": "e342ecc5",
   "metadata": {},
   "outputs": [
    {
     "name": "stdout",
     "output_type": "stream",
     "text": [
      "the pearson correlation coefficient is 0.6616442014272395 with a p_value of p =  0.0\n"
     ]
    }
   ],
   "source": [
    "# lets calculate the pearson correlation coefficient and p_value of Engine HP and Price\n",
    "\n",
    "pearson_coef, p_value = stats.pearsonr(car[\"Engine HP\"], car[\"MSRP\"])\n",
    "\n",
    "print(\"the pearson correlation coefficient is\", pearson_coef, \"with a p_value of p = \", p_value)"
   ]
  },
  {
   "cell_type": "code",
   "execution_count": 52,
   "id": "c3f5fc26",
   "metadata": {},
   "outputs": [
    {
     "name": "stdout",
     "output_type": "stream",
     "text": [
      "the pearson correlation coefficient is -0.15767572242668285 with a p_value of p =  3.4938535989280756e-67\n"
     ]
    }
   ],
   "source": [
    "pearson_coef, p_value = stats.pearsonr(car[\"city mpg\"], car[\"MSRP\"])\n",
    "\n",
    "print(\"the pearson correlation coefficient is\", pearson_coef, \"with a p_value of p = \", p_value)"
   ]
  },
  {
   "cell_type": "code",
   "execution_count": 53,
   "id": "36f9bc4b",
   "metadata": {},
   "outputs": [
    {
     "name": "stdout",
     "output_type": "stream",
     "text": [
      "the pearson correlation coefficient is -0.16004267885202625 with a p_value of p =  3.477593360590622e-69\n"
     ]
    }
   ],
   "source": [
    "pearson_coef, p_value = stats.pearsonr(car[\"highway MPG\"], car[\"MSRP\"])\n",
    "\n",
    "print(\"the pearson correlation coefficient is\", pearson_coef, \"with a p_value of p = \", p_value)"
   ]
  },
  {
   "cell_type": "code",
   "execution_count": 54,
   "id": "022b0f88",
   "metadata": {},
   "outputs": [],
   "source": [
    "num_door_mean =car['Number of Doors'].mean()"
   ]
  },
  {
   "cell_type": "code",
   "execution_count": 55,
   "id": "946cbe66",
   "metadata": {},
   "outputs": [],
   "source": [
    "car[\"Number of Doors\"].fillna(num_door_mean, inplace=True)"
   ]
  },
  {
   "cell_type": "code",
   "execution_count": 56,
   "id": "fbe3b130",
   "metadata": {},
   "outputs": [
    {
     "name": "stdout",
     "output_type": "stream",
     "text": [
      "the pearson correlation coefficient is -0.12652067140499176 with a p_value of p =  1.044015989490472e-43\n"
     ]
    }
   ],
   "source": [
    "pearson_coef, p_value = stats.pearsonr(car[\"Number of Doors\"], car[\"MSRP\"])\n",
    "\n",
    "print(\"the pearson correlation coefficient is\", pearson_coef, \"with a p_value of p = \", p_value)"
   ]
  },
  {
   "cell_type": "markdown",
   "id": "d8407bc5",
   "metadata": {},
   "source": [
    "### ANOVA: \n",
    "#### Analysis of Variance\n",
    "##### The Analysis of Variance (ANOVA) is a statistical method used to test whether there are significant differences between the means of two or more groups. ANOVA returns two parameters:\n",
    "\n",
    "#### F-test score: ANOVA assumes the means of all groups are the same, calculates how much the actual means deviate from the assumption, and reports it as the F-test score. A larger score means there is a larger difference between the means.\n",
    "\n",
    "#### P-value: P-value tells how statistically significant is our calculated score value.\n",
    "\n",
    "##### If our price variable is strongly correlated with the variable we are analyzing, expect ANOVA to return a sizeable F-test score and a small p-value."
   ]
  },
  {
   "cell_type": "code",
   "execution_count": 57,
   "id": "eadeb49e",
   "metadata": {},
   "outputs": [
    {
     "data": {
      "text/html": [
       "<div>\n",
       "<style scoped>\n",
       "    .dataframe tbody tr th:only-of-type {\n",
       "        vertical-align: middle;\n",
       "    }\n",
       "\n",
       "    .dataframe tbody tr th {\n",
       "        vertical-align: top;\n",
       "    }\n",
       "\n",
       "    .dataframe thead th {\n",
       "        text-align: right;\n",
       "    }\n",
       "</style>\n",
       "<table border=\"1\" class=\"dataframe\">\n",
       "  <thead>\n",
       "    <tr style=\"text-align: right;\">\n",
       "      <th></th>\n",
       "      <th>Driven_Wheels</th>\n",
       "      <th>MSRP</th>\n",
       "    </tr>\n",
       "  </thead>\n",
       "  <tbody>\n",
       "    <tr>\n",
       "      <th>0</th>\n",
       "      <td>rear wheel drive</td>\n",
       "      <td>46135</td>\n",
       "    </tr>\n",
       "    <tr>\n",
       "      <th>1</th>\n",
       "      <td>rear wheel drive</td>\n",
       "      <td>40650</td>\n",
       "    </tr>\n",
       "    <tr>\n",
       "      <th>17</th>\n",
       "      <td>front wheel drive</td>\n",
       "      <td>2000</td>\n",
       "    </tr>\n",
       "    <tr>\n",
       "      <th>18</th>\n",
       "      <td>front wheel drive</td>\n",
       "      <td>2000</td>\n",
       "    </tr>\n",
       "    <tr>\n",
       "      <th>19</th>\n",
       "      <td>all wheel drive</td>\n",
       "      <td>2000</td>\n",
       "    </tr>\n",
       "    <tr>\n",
       "      <th>21</th>\n",
       "      <td>all wheel drive</td>\n",
       "      <td>2000</td>\n",
       "    </tr>\n",
       "    <tr>\n",
       "      <th>481</th>\n",
       "      <td>four wheel drive</td>\n",
       "      <td>37615</td>\n",
       "    </tr>\n",
       "    <tr>\n",
       "      <th>482</th>\n",
       "      <td>four wheel drive</td>\n",
       "      <td>34695</td>\n",
       "    </tr>\n",
       "  </tbody>\n",
       "</table>\n",
       "</div>"
      ],
      "text/plain": [
       "         Driven_Wheels   MSRP\n",
       "0     rear wheel drive  46135\n",
       "1     rear wheel drive  40650\n",
       "17   front wheel drive   2000\n",
       "18   front wheel drive   2000\n",
       "19     all wheel drive   2000\n",
       "21     all wheel drive   2000\n",
       "481   four wheel drive  37615\n",
       "482   four wheel drive  34695"
      ]
     },
     "execution_count": 57,
     "metadata": {},
     "output_type": "execute_result"
    }
   ],
   "source": [
    "#Let's see if different types 'Driven-Wheels' impact 'MSRP', we group the data.\n",
    "\n",
    "grouped_test2 = car_gptest[['Driven_Wheels', 'MSRP']].groupby(['Driven_Wheels'])\n",
    "\n",
    "grouped_test2.head(2)"
   ]
  },
  {
   "cell_type": "code",
   "execution_count": 58,
   "id": "f0e8e5fe",
   "metadata": {},
   "outputs": [
    {
     "data": {
      "text/html": [
       "<div>\n",
       "<style scoped>\n",
       "    .dataframe tbody tr th:only-of-type {\n",
       "        vertical-align: middle;\n",
       "    }\n",
       "\n",
       "    .dataframe tbody tr th {\n",
       "        vertical-align: top;\n",
       "    }\n",
       "\n",
       "    .dataframe thead th {\n",
       "        text-align: right;\n",
       "    }\n",
       "</style>\n",
       "<table border=\"1\" class=\"dataframe\">\n",
       "  <thead>\n",
       "    <tr style=\"text-align: right;\">\n",
       "      <th></th>\n",
       "      <th>Driven_Wheels</th>\n",
       "      <th>Vehicle Style</th>\n",
       "      <th>MSRP</th>\n",
       "    </tr>\n",
       "  </thead>\n",
       "  <tbody>\n",
       "    <tr>\n",
       "      <th>0</th>\n",
       "      <td>rear wheel drive</td>\n",
       "      <td>Coupe</td>\n",
       "      <td>46135</td>\n",
       "    </tr>\n",
       "    <tr>\n",
       "      <th>1</th>\n",
       "      <td>rear wheel drive</td>\n",
       "      <td>Convertible</td>\n",
       "      <td>40650</td>\n",
       "    </tr>\n",
       "    <tr>\n",
       "      <th>2</th>\n",
       "      <td>rear wheel drive</td>\n",
       "      <td>Coupe</td>\n",
       "      <td>36350</td>\n",
       "    </tr>\n",
       "    <tr>\n",
       "      <th>3</th>\n",
       "      <td>rear wheel drive</td>\n",
       "      <td>Coupe</td>\n",
       "      <td>29450</td>\n",
       "    </tr>\n",
       "    <tr>\n",
       "      <th>4</th>\n",
       "      <td>rear wheel drive</td>\n",
       "      <td>Convertible</td>\n",
       "      <td>34500</td>\n",
       "    </tr>\n",
       "    <tr>\n",
       "      <th>...</th>\n",
       "      <td>...</td>\n",
       "      <td>...</td>\n",
       "      <td>...</td>\n",
       "    </tr>\n",
       "    <tr>\n",
       "      <th>11909</th>\n",
       "      <td>all wheel drive</td>\n",
       "      <td>4dr Hatchback</td>\n",
       "      <td>46120</td>\n",
       "    </tr>\n",
       "    <tr>\n",
       "      <th>11910</th>\n",
       "      <td>all wheel drive</td>\n",
       "      <td>4dr Hatchback</td>\n",
       "      <td>56670</td>\n",
       "    </tr>\n",
       "    <tr>\n",
       "      <th>11911</th>\n",
       "      <td>all wheel drive</td>\n",
       "      <td>4dr Hatchback</td>\n",
       "      <td>50620</td>\n",
       "    </tr>\n",
       "    <tr>\n",
       "      <th>11912</th>\n",
       "      <td>all wheel drive</td>\n",
       "      <td>4dr Hatchback</td>\n",
       "      <td>50920</td>\n",
       "    </tr>\n",
       "    <tr>\n",
       "      <th>11913</th>\n",
       "      <td>front wheel drive</td>\n",
       "      <td>Sedan</td>\n",
       "      <td>28995</td>\n",
       "    </tr>\n",
       "  </tbody>\n",
       "</table>\n",
       "<p>11914 rows × 3 columns</p>\n",
       "</div>"
      ],
      "text/plain": [
       "           Driven_Wheels  Vehicle Style   MSRP\n",
       "0       rear wheel drive          Coupe  46135\n",
       "1       rear wheel drive    Convertible  40650\n",
       "2       rear wheel drive          Coupe  36350\n",
       "3       rear wheel drive          Coupe  29450\n",
       "4       rear wheel drive    Convertible  34500\n",
       "...                  ...            ...    ...\n",
       "11909    all wheel drive  4dr Hatchback  46120\n",
       "11910    all wheel drive  4dr Hatchback  56670\n",
       "11911    all wheel drive  4dr Hatchback  50620\n",
       "11912    all wheel drive  4dr Hatchback  50920\n",
       "11913  front wheel drive          Sedan  28995\n",
       "\n",
       "[11914 rows x 3 columns]"
      ]
     },
     "execution_count": 58,
     "metadata": {},
     "output_type": "execute_result"
    }
   ],
   "source": [
    "car_gptest"
   ]
  },
  {
   "cell_type": "code",
   "execution_count": 59,
   "id": "973b1a49",
   "metadata": {},
   "outputs": [
    {
     "data": {
      "text/plain": [
       "481      37615\n",
       "482      34695\n",
       "483      35725\n",
       "484      43400\n",
       "486      38645\n",
       "         ...  \n",
       "11871    68325\n",
       "11874    60000\n",
       "11875    68965\n",
       "11877    51530\n",
       "11879    60315\n",
       "Name: MSRP, Length: 1403, dtype: int64"
      ]
     },
     "execution_count": 59,
     "metadata": {},
     "output_type": "execute_result"
    }
   ],
   "source": [
    "#we can obtain the value of the method group using the method \"get_group\"\n",
    "\n",
    "grouped_test2.get_group(\"four wheel drive\")[\"MSRP\"]"
   ]
  },
  {
   "cell_type": "code",
   "execution_count": 60,
   "id": "0c32eef7",
   "metadata": {},
   "outputs": [
    {
     "name": "stdout",
     "output_type": "stream",
     "text": [
      "ANOVA results: F= 443.9434199062454 , P= 4.308727817403687e-185\n"
     ]
    }
   ],
   "source": [
    "# we can use the function \"f_oneway\" in the module stats to obtain the f-test and p-value\n",
    "\n",
    "f_val, p_val = stats.f_oneway(grouped_test2.get_group(\"front wheel drive\")[\"MSRP\"],\n",
    "                             grouped_test2.get_group(\"rear wheel drive\")[\"MSRP\"],\n",
    "                             grouped_test2.get_group(\"four wheel drive\")[\"MSRP\"])\n",
    "print(\"ANOVA results: F=\", f_val, \", P=\", p_val)"
   ]
  },
  {
   "cell_type": "markdown",
   "id": "cf1889c1",
   "metadata": {},
   "source": [
    "## Conclusion:\n",
    "In conclusion, during the analysis i discovered the dataset has over 10000 rows and 12 columns. there were some missing values which i took care of by filling them with either the mean values and the mode.\n",
    "and i also discovered that Engine HP and engine cylinder were highly correlated with the price of a vehicle. \n",
    "\n",
    "## Limitation\n",
    "there were some limitations in the dataset as some of the datatypes of features had to be converted to the appropriate types to be able to perform analysis on.\n"
   ]
  },
  {
   "cell_type": "code",
   "execution_count": null,
   "id": "46ea9315",
   "metadata": {},
   "outputs": [],
   "source": []
  }
 ],
 "metadata": {
  "kernelspec": {
   "display_name": "Python 3 (ipykernel)",
   "language": "python",
   "name": "python3"
  },
  "language_info": {
   "codemirror_mode": {
    "name": "ipython",
    "version": 3
   },
   "file_extension": ".py",
   "mimetype": "text/x-python",
   "name": "python",
   "nbconvert_exporter": "python",
   "pygments_lexer": "ipython3",
   "version": "3.9.7"
  }
 },
 "nbformat": 4,
 "nbformat_minor": 5
}
